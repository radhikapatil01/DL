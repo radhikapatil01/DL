{
  "cells": [
    {
      "cell_type": "markdown",
      "metadata": {
        "id": "L91SnEQ9fuLt"
      },
      "source": [
        "\n",
        "Recurrent neural network (RNN) Use the Google stock prices dataset and design a time series analysis and prediction system using RNN.\n"
      ]
    },
    {
      "cell_type": "code",
      "execution_count": 3,
      "metadata": {
        "id": "qyaPm47D71WE"
      },
      "outputs": [],
      "source": [
        "import numpy as np\n",
        "import pandas as pd\n",
        "import matplotlib.pyplot as plt\n",
        "import seaborn as sns\n",
        "import warnings\n",
        "import datetime\n",
        "import seaborn as sns\n",
        "from sklearn.preprocessing import MinMaxScaler\n",
        "from sklearn.decomposition import PCA\n",
        "from sklearn.model_selection import train_test_split\n",
        "from tensorflow.keras import Sequential\n",
        "from tensorflow.keras.layers import Dense\n",
        "from tensorflow.keras.layers import LSTM\n",
        "from sklearn.metrics import r2_score"
      ]
    },
    {
      "cell_type": "code",
      "execution_count": 4,
      "metadata": {
        "colab": {
          "base_uri": "https://localhost:8080/",
          "height": 423
        },
        "id": "Hykq2X0k7_3D",
        "outputId": "4992ca68-f674-4f3b-ad50-125244189e89"
      },
      "outputs": [
        {
          "output_type": "execute_result",
          "data": {
            "text/plain": [
              "            Date    Open    High     Low   Close      Volume\n",
              "0       1/3/2012  325.25  332.83  324.97  663.59   7,380,500\n",
              "1       1/4/2012  331.27  333.87  329.08  666.45   5,749,400\n",
              "2       1/5/2012  329.83  330.75  326.89  657.21   6,590,300\n",
              "3       1/6/2012  328.34  328.77  323.68  648.24   5,405,900\n",
              "4       1/9/2012  322.04  322.29  309.46  620.76  11,688,800\n",
              "...          ...     ...     ...     ...     ...         ...\n",
              "1253  12/23/2016  790.90  792.74  787.28  789.91     623,400\n",
              "1254  12/27/2016  790.68  797.86  787.66  791.55     789,100\n",
              "1255  12/28/2016  793.70  794.23  783.20  785.05   1,153,800\n",
              "1256  12/29/2016  783.33  785.93  778.92  782.79     744,300\n",
              "1257  12/30/2016  782.75  782.78  770.41  771.82   1,770,000\n",
              "\n",
              "[1258 rows x 6 columns]"
            ],
            "text/html": [
              "\n",
              "  <div id=\"df-e83f24ad-f6d1-4aeb-acc1-12f8aa826212\">\n",
              "    <div class=\"colab-df-container\">\n",
              "      <div>\n",
              "<style scoped>\n",
              "    .dataframe tbody tr th:only-of-type {\n",
              "        vertical-align: middle;\n",
              "    }\n",
              "\n",
              "    .dataframe tbody tr th {\n",
              "        vertical-align: top;\n",
              "    }\n",
              "\n",
              "    .dataframe thead th {\n",
              "        text-align: right;\n",
              "    }\n",
              "</style>\n",
              "<table border=\"1\" class=\"dataframe\">\n",
              "  <thead>\n",
              "    <tr style=\"text-align: right;\">\n",
              "      <th></th>\n",
              "      <th>Date</th>\n",
              "      <th>Open</th>\n",
              "      <th>High</th>\n",
              "      <th>Low</th>\n",
              "      <th>Close</th>\n",
              "      <th>Volume</th>\n",
              "    </tr>\n",
              "  </thead>\n",
              "  <tbody>\n",
              "    <tr>\n",
              "      <th>0</th>\n",
              "      <td>1/3/2012</td>\n",
              "      <td>325.25</td>\n",
              "      <td>332.83</td>\n",
              "      <td>324.97</td>\n",
              "      <td>663.59</td>\n",
              "      <td>7,380,500</td>\n",
              "    </tr>\n",
              "    <tr>\n",
              "      <th>1</th>\n",
              "      <td>1/4/2012</td>\n",
              "      <td>331.27</td>\n",
              "      <td>333.87</td>\n",
              "      <td>329.08</td>\n",
              "      <td>666.45</td>\n",
              "      <td>5,749,400</td>\n",
              "    </tr>\n",
              "    <tr>\n",
              "      <th>2</th>\n",
              "      <td>1/5/2012</td>\n",
              "      <td>329.83</td>\n",
              "      <td>330.75</td>\n",
              "      <td>326.89</td>\n",
              "      <td>657.21</td>\n",
              "      <td>6,590,300</td>\n",
              "    </tr>\n",
              "    <tr>\n",
              "      <th>3</th>\n",
              "      <td>1/6/2012</td>\n",
              "      <td>328.34</td>\n",
              "      <td>328.77</td>\n",
              "      <td>323.68</td>\n",
              "      <td>648.24</td>\n",
              "      <td>5,405,900</td>\n",
              "    </tr>\n",
              "    <tr>\n",
              "      <th>4</th>\n",
              "      <td>1/9/2012</td>\n",
              "      <td>322.04</td>\n",
              "      <td>322.29</td>\n",
              "      <td>309.46</td>\n",
              "      <td>620.76</td>\n",
              "      <td>11,688,800</td>\n",
              "    </tr>\n",
              "    <tr>\n",
              "      <th>...</th>\n",
              "      <td>...</td>\n",
              "      <td>...</td>\n",
              "      <td>...</td>\n",
              "      <td>...</td>\n",
              "      <td>...</td>\n",
              "      <td>...</td>\n",
              "    </tr>\n",
              "    <tr>\n",
              "      <th>1253</th>\n",
              "      <td>12/23/2016</td>\n",
              "      <td>790.90</td>\n",
              "      <td>792.74</td>\n",
              "      <td>787.28</td>\n",
              "      <td>789.91</td>\n",
              "      <td>623,400</td>\n",
              "    </tr>\n",
              "    <tr>\n",
              "      <th>1254</th>\n",
              "      <td>12/27/2016</td>\n",
              "      <td>790.68</td>\n",
              "      <td>797.86</td>\n",
              "      <td>787.66</td>\n",
              "      <td>791.55</td>\n",
              "      <td>789,100</td>\n",
              "    </tr>\n",
              "    <tr>\n",
              "      <th>1255</th>\n",
              "      <td>12/28/2016</td>\n",
              "      <td>793.70</td>\n",
              "      <td>794.23</td>\n",
              "      <td>783.20</td>\n",
              "      <td>785.05</td>\n",
              "      <td>1,153,800</td>\n",
              "    </tr>\n",
              "    <tr>\n",
              "      <th>1256</th>\n",
              "      <td>12/29/2016</td>\n",
              "      <td>783.33</td>\n",
              "      <td>785.93</td>\n",
              "      <td>778.92</td>\n",
              "      <td>782.79</td>\n",
              "      <td>744,300</td>\n",
              "    </tr>\n",
              "    <tr>\n",
              "      <th>1257</th>\n",
              "      <td>12/30/2016</td>\n",
              "      <td>782.75</td>\n",
              "      <td>782.78</td>\n",
              "      <td>770.41</td>\n",
              "      <td>771.82</td>\n",
              "      <td>1,770,000</td>\n",
              "    </tr>\n",
              "  </tbody>\n",
              "</table>\n",
              "<p>1258 rows × 6 columns</p>\n",
              "</div>\n",
              "      <button class=\"colab-df-convert\" onclick=\"convertToInteractive('df-e83f24ad-f6d1-4aeb-acc1-12f8aa826212')\"\n",
              "              title=\"Convert this dataframe to an interactive table.\"\n",
              "              style=\"display:none;\">\n",
              "        \n",
              "  <svg xmlns=\"http://www.w3.org/2000/svg\" height=\"24px\"viewBox=\"0 0 24 24\"\n",
              "       width=\"24px\">\n",
              "    <path d=\"M0 0h24v24H0V0z\" fill=\"none\"/>\n",
              "    <path d=\"M18.56 5.44l.94 2.06.94-2.06 2.06-.94-2.06-.94-.94-2.06-.94 2.06-2.06.94zm-11 1L8.5 8.5l.94-2.06 2.06-.94-2.06-.94L8.5 2.5l-.94 2.06-2.06.94zm10 10l.94 2.06.94-2.06 2.06-.94-2.06-.94-.94-2.06-.94 2.06-2.06.94z\"/><path d=\"M17.41 7.96l-1.37-1.37c-.4-.4-.92-.59-1.43-.59-.52 0-1.04.2-1.43.59L10.3 9.45l-7.72 7.72c-.78.78-.78 2.05 0 2.83L4 21.41c.39.39.9.59 1.41.59.51 0 1.02-.2 1.41-.59l7.78-7.78 2.81-2.81c.8-.78.8-2.07 0-2.86zM5.41 20L4 18.59l7.72-7.72 1.47 1.35L5.41 20z\"/>\n",
              "  </svg>\n",
              "      </button>\n",
              "      \n",
              "  <style>\n",
              "    .colab-df-container {\n",
              "      display:flex;\n",
              "      flex-wrap:wrap;\n",
              "      gap: 12px;\n",
              "    }\n",
              "\n",
              "    .colab-df-convert {\n",
              "      background-color: #E8F0FE;\n",
              "      border: none;\n",
              "      border-radius: 50%;\n",
              "      cursor: pointer;\n",
              "      display: none;\n",
              "      fill: #1967D2;\n",
              "      height: 32px;\n",
              "      padding: 0 0 0 0;\n",
              "      width: 32px;\n",
              "    }\n",
              "\n",
              "    .colab-df-convert:hover {\n",
              "      background-color: #E2EBFA;\n",
              "      box-shadow: 0px 1px 2px rgba(60, 64, 67, 0.3), 0px 1px 3px 1px rgba(60, 64, 67, 0.15);\n",
              "      fill: #174EA6;\n",
              "    }\n",
              "\n",
              "    [theme=dark] .colab-df-convert {\n",
              "      background-color: #3B4455;\n",
              "      fill: #D2E3FC;\n",
              "    }\n",
              "\n",
              "    [theme=dark] .colab-df-convert:hover {\n",
              "      background-color: #434B5C;\n",
              "      box-shadow: 0px 1px 3px 1px rgba(0, 0, 0, 0.15);\n",
              "      filter: drop-shadow(0px 1px 2px rgba(0, 0, 0, 0.3));\n",
              "      fill: #FFFFFF;\n",
              "    }\n",
              "  </style>\n",
              "\n",
              "      <script>\n",
              "        const buttonEl =\n",
              "          document.querySelector('#df-e83f24ad-f6d1-4aeb-acc1-12f8aa826212 button.colab-df-convert');\n",
              "        buttonEl.style.display =\n",
              "          google.colab.kernel.accessAllowed ? 'block' : 'none';\n",
              "\n",
              "        async function convertToInteractive(key) {\n",
              "          const element = document.querySelector('#df-e83f24ad-f6d1-4aeb-acc1-12f8aa826212');\n",
              "          const dataTable =\n",
              "            await google.colab.kernel.invokeFunction('convertToInteractive',\n",
              "                                                     [key], {});\n",
              "          if (!dataTable) return;\n",
              "\n",
              "          const docLinkHtml = 'Like what you see? Visit the ' +\n",
              "            '<a target=\"_blank\" href=https://colab.research.google.com/notebooks/data_table.ipynb>data table notebook</a>'\n",
              "            + ' to learn more about interactive tables.';\n",
              "          element.innerHTML = '';\n",
              "          dataTable['output_type'] = 'display_data';\n",
              "          await google.colab.output.renderOutput(dataTable, element);\n",
              "          const docLink = document.createElement('div');\n",
              "          docLink.innerHTML = docLinkHtml;\n",
              "          element.appendChild(docLink);\n",
              "        }\n",
              "      </script>\n",
              "    </div>\n",
              "  </div>\n",
              "  "
            ]
          },
          "metadata": {},
          "execution_count": 4
        }
      ],
      "source": [
        "#data=pd.read_csv(\"/content/Google_Stock_Price_Train.csv\",index_col='Date',parse_dates=True)\n",
        "data=pd.read_csv(\"/content/drive/MyDrive/Google_Stock_Price_Train[1].csv\")\n",
        "data"
      ]
    },
    {
      "cell_type": "code",
      "execution_count": 5,
      "metadata": {
        "id": "DNhGxVZo8heO"
      },
      "outputs": [],
      "source": [
        "data['Close']=data['Close'].str.replace(',','').astype(float)\n",
        "data['Volume']=data['Volume'].str.replace(',','').astype(float)"
      ]
    },
    {
      "cell_type": "code",
      "source": [
        "data"
      ],
      "metadata": {
        "colab": {
          "base_uri": "https://localhost:8080/",
          "height": 423
        },
        "id": "z-fKd3hnlt_6",
        "outputId": "4492f4fb-0df8-433c-b000-f15454babb01"
      },
      "execution_count": 6,
      "outputs": [
        {
          "output_type": "execute_result",
          "data": {
            "text/plain": [
              "            Date    Open    High     Low   Close      Volume\n",
              "0       1/3/2012  325.25  332.83  324.97  663.59   7380500.0\n",
              "1       1/4/2012  331.27  333.87  329.08  666.45   5749400.0\n",
              "2       1/5/2012  329.83  330.75  326.89  657.21   6590300.0\n",
              "3       1/6/2012  328.34  328.77  323.68  648.24   5405900.0\n",
              "4       1/9/2012  322.04  322.29  309.46  620.76  11688800.0\n",
              "...          ...     ...     ...     ...     ...         ...\n",
              "1253  12/23/2016  790.90  792.74  787.28  789.91    623400.0\n",
              "1254  12/27/2016  790.68  797.86  787.66  791.55    789100.0\n",
              "1255  12/28/2016  793.70  794.23  783.20  785.05   1153800.0\n",
              "1256  12/29/2016  783.33  785.93  778.92  782.79    744300.0\n",
              "1257  12/30/2016  782.75  782.78  770.41  771.82   1770000.0\n",
              "\n",
              "[1258 rows x 6 columns]"
            ],
            "text/html": [
              "\n",
              "  <div id=\"df-c13bbe7d-a38a-4343-9ea1-1ca008b3aa83\">\n",
              "    <div class=\"colab-df-container\">\n",
              "      <div>\n",
              "<style scoped>\n",
              "    .dataframe tbody tr th:only-of-type {\n",
              "        vertical-align: middle;\n",
              "    }\n",
              "\n",
              "    .dataframe tbody tr th {\n",
              "        vertical-align: top;\n",
              "    }\n",
              "\n",
              "    .dataframe thead th {\n",
              "        text-align: right;\n",
              "    }\n",
              "</style>\n",
              "<table border=\"1\" class=\"dataframe\">\n",
              "  <thead>\n",
              "    <tr style=\"text-align: right;\">\n",
              "      <th></th>\n",
              "      <th>Date</th>\n",
              "      <th>Open</th>\n",
              "      <th>High</th>\n",
              "      <th>Low</th>\n",
              "      <th>Close</th>\n",
              "      <th>Volume</th>\n",
              "    </tr>\n",
              "  </thead>\n",
              "  <tbody>\n",
              "    <tr>\n",
              "      <th>0</th>\n",
              "      <td>1/3/2012</td>\n",
              "      <td>325.25</td>\n",
              "      <td>332.83</td>\n",
              "      <td>324.97</td>\n",
              "      <td>663.59</td>\n",
              "      <td>7380500.0</td>\n",
              "    </tr>\n",
              "    <tr>\n",
              "      <th>1</th>\n",
              "      <td>1/4/2012</td>\n",
              "      <td>331.27</td>\n",
              "      <td>333.87</td>\n",
              "      <td>329.08</td>\n",
              "      <td>666.45</td>\n",
              "      <td>5749400.0</td>\n",
              "    </tr>\n",
              "    <tr>\n",
              "      <th>2</th>\n",
              "      <td>1/5/2012</td>\n",
              "      <td>329.83</td>\n",
              "      <td>330.75</td>\n",
              "      <td>326.89</td>\n",
              "      <td>657.21</td>\n",
              "      <td>6590300.0</td>\n",
              "    </tr>\n",
              "    <tr>\n",
              "      <th>3</th>\n",
              "      <td>1/6/2012</td>\n",
              "      <td>328.34</td>\n",
              "      <td>328.77</td>\n",
              "      <td>323.68</td>\n",
              "      <td>648.24</td>\n",
              "      <td>5405900.0</td>\n",
              "    </tr>\n",
              "    <tr>\n",
              "      <th>4</th>\n",
              "      <td>1/9/2012</td>\n",
              "      <td>322.04</td>\n",
              "      <td>322.29</td>\n",
              "      <td>309.46</td>\n",
              "      <td>620.76</td>\n",
              "      <td>11688800.0</td>\n",
              "    </tr>\n",
              "    <tr>\n",
              "      <th>...</th>\n",
              "      <td>...</td>\n",
              "      <td>...</td>\n",
              "      <td>...</td>\n",
              "      <td>...</td>\n",
              "      <td>...</td>\n",
              "      <td>...</td>\n",
              "    </tr>\n",
              "    <tr>\n",
              "      <th>1253</th>\n",
              "      <td>12/23/2016</td>\n",
              "      <td>790.90</td>\n",
              "      <td>792.74</td>\n",
              "      <td>787.28</td>\n",
              "      <td>789.91</td>\n",
              "      <td>623400.0</td>\n",
              "    </tr>\n",
              "    <tr>\n",
              "      <th>1254</th>\n",
              "      <td>12/27/2016</td>\n",
              "      <td>790.68</td>\n",
              "      <td>797.86</td>\n",
              "      <td>787.66</td>\n",
              "      <td>791.55</td>\n",
              "      <td>789100.0</td>\n",
              "    </tr>\n",
              "    <tr>\n",
              "      <th>1255</th>\n",
              "      <td>12/28/2016</td>\n",
              "      <td>793.70</td>\n",
              "      <td>794.23</td>\n",
              "      <td>783.20</td>\n",
              "      <td>785.05</td>\n",
              "      <td>1153800.0</td>\n",
              "    </tr>\n",
              "    <tr>\n",
              "      <th>1256</th>\n",
              "      <td>12/29/2016</td>\n",
              "      <td>783.33</td>\n",
              "      <td>785.93</td>\n",
              "      <td>778.92</td>\n",
              "      <td>782.79</td>\n",
              "      <td>744300.0</td>\n",
              "    </tr>\n",
              "    <tr>\n",
              "      <th>1257</th>\n",
              "      <td>12/30/2016</td>\n",
              "      <td>782.75</td>\n",
              "      <td>782.78</td>\n",
              "      <td>770.41</td>\n",
              "      <td>771.82</td>\n",
              "      <td>1770000.0</td>\n",
              "    </tr>\n",
              "  </tbody>\n",
              "</table>\n",
              "<p>1258 rows × 6 columns</p>\n",
              "</div>\n",
              "      <button class=\"colab-df-convert\" onclick=\"convertToInteractive('df-c13bbe7d-a38a-4343-9ea1-1ca008b3aa83')\"\n",
              "              title=\"Convert this dataframe to an interactive table.\"\n",
              "              style=\"display:none;\">\n",
              "        \n",
              "  <svg xmlns=\"http://www.w3.org/2000/svg\" height=\"24px\"viewBox=\"0 0 24 24\"\n",
              "       width=\"24px\">\n",
              "    <path d=\"M0 0h24v24H0V0z\" fill=\"none\"/>\n",
              "    <path d=\"M18.56 5.44l.94 2.06.94-2.06 2.06-.94-2.06-.94-.94-2.06-.94 2.06-2.06.94zm-11 1L8.5 8.5l.94-2.06 2.06-.94-2.06-.94L8.5 2.5l-.94 2.06-2.06.94zm10 10l.94 2.06.94-2.06 2.06-.94-2.06-.94-.94-2.06-.94 2.06-2.06.94z\"/><path d=\"M17.41 7.96l-1.37-1.37c-.4-.4-.92-.59-1.43-.59-.52 0-1.04.2-1.43.59L10.3 9.45l-7.72 7.72c-.78.78-.78 2.05 0 2.83L4 21.41c.39.39.9.59 1.41.59.51 0 1.02-.2 1.41-.59l7.78-7.78 2.81-2.81c.8-.78.8-2.07 0-2.86zM5.41 20L4 18.59l7.72-7.72 1.47 1.35L5.41 20z\"/>\n",
              "  </svg>\n",
              "      </button>\n",
              "      \n",
              "  <style>\n",
              "    .colab-df-container {\n",
              "      display:flex;\n",
              "      flex-wrap:wrap;\n",
              "      gap: 12px;\n",
              "    }\n",
              "\n",
              "    .colab-df-convert {\n",
              "      background-color: #E8F0FE;\n",
              "      border: none;\n",
              "      border-radius: 50%;\n",
              "      cursor: pointer;\n",
              "      display: none;\n",
              "      fill: #1967D2;\n",
              "      height: 32px;\n",
              "      padding: 0 0 0 0;\n",
              "      width: 32px;\n",
              "    }\n",
              "\n",
              "    .colab-df-convert:hover {\n",
              "      background-color: #E2EBFA;\n",
              "      box-shadow: 0px 1px 2px rgba(60, 64, 67, 0.3), 0px 1px 3px 1px rgba(60, 64, 67, 0.15);\n",
              "      fill: #174EA6;\n",
              "    }\n",
              "\n",
              "    [theme=dark] .colab-df-convert {\n",
              "      background-color: #3B4455;\n",
              "      fill: #D2E3FC;\n",
              "    }\n",
              "\n",
              "    [theme=dark] .colab-df-convert:hover {\n",
              "      background-color: #434B5C;\n",
              "      box-shadow: 0px 1px 3px 1px rgba(0, 0, 0, 0.15);\n",
              "      filter: drop-shadow(0px 1px 2px rgba(0, 0, 0, 0.3));\n",
              "      fill: #FFFFFF;\n",
              "    }\n",
              "  </style>\n",
              "\n",
              "      <script>\n",
              "        const buttonEl =\n",
              "          document.querySelector('#df-c13bbe7d-a38a-4343-9ea1-1ca008b3aa83 button.colab-df-convert');\n",
              "        buttonEl.style.display =\n",
              "          google.colab.kernel.accessAllowed ? 'block' : 'none';\n",
              "\n",
              "        async function convertToInteractive(key) {\n",
              "          const element = document.querySelector('#df-c13bbe7d-a38a-4343-9ea1-1ca008b3aa83');\n",
              "          const dataTable =\n",
              "            await google.colab.kernel.invokeFunction('convertToInteractive',\n",
              "                                                     [key], {});\n",
              "          if (!dataTable) return;\n",
              "\n",
              "          const docLinkHtml = 'Like what you see? Visit the ' +\n",
              "            '<a target=\"_blank\" href=https://colab.research.google.com/notebooks/data_table.ipynb>data table notebook</a>'\n",
              "            + ' to learn more about interactive tables.';\n",
              "          element.innerHTML = '';\n",
              "          dataTable['output_type'] = 'display_data';\n",
              "          await google.colab.output.renderOutput(dataTable, element);\n",
              "          const docLink = document.createElement('div');\n",
              "          docLink.innerHTML = docLinkHtml;\n",
              "          element.appendChild(docLink);\n",
              "        }\n",
              "      </script>\n",
              "    </div>\n",
              "  </div>\n",
              "  "
            ]
          },
          "metadata": {},
          "execution_count": 6
        }
      ]
    },
    {
      "cell_type": "markdown",
      "metadata": {
        "id": "OOaw8TNG8F4d"
      },
      "source": [
        "In the dataset, the Volume column had thousand seperated values, which is taken as string when usually loading to Pandas DataFrame. I have specified that ',' is used as the thousand separator when loading, so that the ',' will not be there when loading to our program. Then it'll be loaded as a numerical value.\n",
        "\n",
        "Plotting the Data"
      ]
    },
    {
      "cell_type": "code",
      "execution_count": 7,
      "metadata": {
        "colab": {
          "base_uri": "https://localhost:8080/",
          "height": 968
        },
        "id": "5y-u7-XL8Ga0",
        "outputId": "f1811ebd-6b8f-49d7-afbd-4fff5343c109"
      },
      "outputs": [
        {
          "output_type": "execute_result",
          "data": {
            "text/plain": [
              "Text(0, 0.5, 'Stock Volume')"
            ]
          },
          "metadata": {},
          "execution_count": 7
        },
        {
          "output_type": "display_data",
          "data": {
            "text/plain": [
              "<Figure size 500x500 with 1 Axes>"
            ],
            "image/png": "[encoded data removed]"
          },
          "metadata": {}
        },
        {
          "output_type": "display_data",
          "data": {
            "text/plain": [
              "<Figure size 500x500 with 1 Axes>"
            ],
            "image/png": "[encoded data removed]"
          },
          "metadata": {}
        }
      ],
      "source": [
        "ax1 = data.plot(x=\"Date\", y=[\"Open\", \"High\", \"Low\", \"Close\"],  figsize=(5,5),title='Open, High, Low, Close Stock Prices of Google Stocks')\n",
        "ax1.set_ylabel(\"Stock Price\")\n",
        "\n",
        "ax2 = data.plot(x=\"Date\", y=[\"Volume\"],  figsize=(5,5))\n",
        "ax2.set_ylabel(\"Stock Volume\")"
      ]
    },
    {
      "cell_type": "markdown",
      "metadata": {
        "id": "Jr6mRk8C80Bw"
      },
      "source": [
        "When inspecting the first plot, we can see that in the closing value of stock prior to 2014/03/26, there is a significant gap between the closing price and the other prices, where as after this date, the closing price has also been closer to other prices.\n",
        "\n",
        "When inspecting the second plot, we can see that there are significant fluctuations in the Stock Volume over the time. And it is quite hard to find a trend/pattern in this the data in Stock Volume (the one we need to predict).\n",
        "\n",
        "Preprocessing Data\n",
        "Preprocessing data includes handling missing values and outliers, applying feature coding techniques if needed, scale & standardize features.\n",
        "\n",
        "Checking for Missing values"
      ]
    },
    {
      "cell_type": "code",
      "execution_count": 8,
      "metadata": {
        "colab": {
          "base_uri": "https://localhost:8080/"
        },
        "id": "OHym22iH80gO",
        "outputId": "d84e325d-d591-4251-eaa7-2a1b1fcfd8cd"
      },
      "outputs": [
        {
          "output_type": "stream",
          "name": "stdout",
          "text": [
            "Date      0\n",
            "Open      0\n",
            "High      0\n",
            "Low       0\n",
            "Close     0\n",
            "Volume    0\n",
            "dtype: int64\n"
          ]
        }
      ],
      "source": [
        "# Getting a summary of missing values for each field/attribute\n",
        "print(data.isnull().sum())"
      ]
    },
    {
      "cell_type": "markdown",
      "metadata": {
        "id": "MhqSxmZz85GL"
      },
      "source": [
        "We can see that there are no missing values in the dataset.\n",
        "\n",
        "Handling Outliers\n",
        "\n",
        "According to the above graph plots that indicate the Open, High, Low and Close values of the Stock prices, the Close price is as mentioned earlier, has a significant gap with the other values. The surprising fact is that, the Close value has even become higher than the High value (highest price of stock for a given day), which is not real.\n",
        "\n",
        "Let us also check outliers for attributes by using box plots as follows."
      ]
    },
    {
      "cell_type": "code",
      "execution_count": 9,
      "metadata": {
        "colab": {
          "base_uri": "https://localhost:8080/",
          "height": 422
        },
        "id": "WOp2y3D_85t_",
        "outputId": "60725291-ba97-436e-9f7b-fdee0c233423"
      },
      "outputs": [
        {
          "output_type": "display_data",
          "data": {
            "text/plain": [
              "<Figure size 2000x600 with 5 Axes>"
            ],
            "image/png": "[encoded data removed]"
          },
          "metadata": {}
        }
      ],
      "source": [
        "data[['Open','High','Low','Close','Volume']].plot(kind= 'box' ,layout=(1,5),subplots=True, sharex=False, sharey=False, figsize=(20,6),color='blue')\n",
        "plt.show()\n",
        "     "
      ]
    },
    {
      "cell_type": "markdown",
      "metadata": {
        "id": "fkQiE_wc9BxM"
      },
      "source": [
        "We can see that there are outliers in the Close and Volume attributes. However, i will not remove any outliers here since there are only a limited number of datapoints (less than 1300) and if we remove outliers, the dataset will become even smaller.\n",
        "\n",
        "Feature Encoding\n",
        "\n",
        "When we check the 1st 10 records of the dataset, we could see that all the data in the dataset are numerical data, and there are no categorical data that needs encoding. Therefore, no feature encoding process was carried out on this dataset.\n",
        "\n",
        "Feature Scaling\n",
        "\n",
        "MinMaxScaler, which is said to be better to be used with time-series data, was used on this dataset for the feature scaling purposes.\n",
        "\n",
        "The following set of graphs show the attribute histogram before scaling"
      ]
    },
    {
      "cell_type": "code",
      "execution_count": 10,
      "metadata": {
        "colab": {
          "base_uri": "https://localhost:8080/",
          "height": 560
        },
        "id": "c6_jwQV-9ADh",
        "outputId": "ac36b8bd-158f-4a5d-b19f-ea25aaff8aa8"
      },
      "outputs": [
        {
          "output_type": "execute_result",
          "data": {
            "text/plain": [
              "array([[<Axes: title={'center': 'Open'}>,\n",
              "        <Axes: title={'center': 'High'}>],\n",
              "       [<Axes: title={'center': 'Low'}>,\n",
              "        <Axes: title={'center': 'Close'}>],\n",
              "       [<Axes: title={'center': 'Volume'}>, <Axes: >]], dtype=object)"
            ]
          },
          "metadata": {},
          "execution_count": 10
        },
        {
          "output_type": "display_data",
          "data": {
            "text/plain": [
              "<Figure size 640x480 with 6 Axes>"
            ],
            "image/png": "[encoded data removed]"
          },
          "metadata": {}
        }
      ],
      "source": [
        "data.hist()"
      ]
    },
    {
      "cell_type": "code",
      "source": [
        "data"
      ],
      "metadata": {
        "colab": {
          "base_uri": "https://localhost:8080/",
          "height": 423
        },
        "id": "IGJ2ewpF9gEa",
        "outputId": "531a0725-2b8a-41e5-d70b-a2e46a6e5693"
      },
      "execution_count": 11,
      "outputs": [
        {
          "output_type": "execute_result",
          "data": {
            "text/plain": [
              "            Date    Open    High     Low   Close      Volume\n",
              "0       1/3/2012  325.25  332.83  324.97  663.59   7380500.0\n",
              "1       1/4/2012  331.27  333.87  329.08  666.45   5749400.0\n",
              "2       1/5/2012  329.83  330.75  326.89  657.21   6590300.0\n",
              "3       1/6/2012  328.34  328.77  323.68  648.24   5405900.0\n",
              "4       1/9/2012  322.04  322.29  309.46  620.76  11688800.0\n",
              "...          ...     ...     ...     ...     ...         ...\n",
              "1253  12/23/2016  790.90  792.74  787.28  789.91    623400.0\n",
              "1254  12/27/2016  790.68  797.86  787.66  791.55    789100.0\n",
              "1255  12/28/2016  793.70  794.23  783.20  785.05   1153800.0\n",
              "1256  12/29/2016  783.33  785.93  778.92  782.79    744300.0\n",
              "1257  12/30/2016  782.75  782.78  770.41  771.82   1770000.0\n",
              "\n",
              "[1258 rows x 6 columns]"
            ],
            "text/html": [
              "\n",
              "  <div id=\"df-23173b13-c6b7-42de-846e-7e39cffea040\">\n",
              "    <div class=\"colab-df-container\">\n",
              "      <div>\n",
              "<style scoped>\n",
              "    .dataframe tbody tr th:only-of-type {\n",
              "        vertical-align: middle;\n",
              "    }\n",
              "\n",
              "    .dataframe tbody tr th {\n",
              "        vertical-align: top;\n",
              "    }\n",
              "\n",
              "    .dataframe thead th {\n",
              "        text-align: right;\n",
              "    }\n",
              "</style>\n",
              "<table border=\"1\" class=\"dataframe\">\n",
              "  <thead>\n",
              "    <tr style=\"text-align: right;\">\n",
              "      <th></th>\n",
              "      <th>Date</th>\n",
              "      <th>Open</th>\n",
              "      <th>High</th>\n",
              "      <th>Low</th>\n",
              "      <th>Close</th>\n",
              "      <th>Volume</th>\n",
              "    </tr>\n",
              "  </thead>\n",
              "  <tbody>\n",
              "    <tr>\n",
              "      <th>0</th>\n",
              "      <td>1/3/2012</td>\n",
              "      <td>325.25</td>\n",
              "      <td>332.83</td>\n",
              "      <td>324.97</td>\n",
              "      <td>663.59</td>\n",
              "      <td>7380500.0</td>\n",
              "    </tr>\n",
              "    <tr>\n",
              "      <th>1</th>\n",
              "      <td>1/4/2012</td>\n",
              "      <td>331.27</td>\n",
              "      <td>333.87</td>\n",
              "      <td>329.08</td>\n",
              "      <td>666.45</td>\n",
              "      <td>5749400.0</td>\n",
              "    </tr>\n",
              "    <tr>\n",
              "      <th>2</th>\n",
              "      <td>1/5/2012</td>\n",
              "      <td>329.83</td>\n",
              "      <td>330.75</td>\n",
              "      <td>326.89</td>\n",
              "      <td>657.21</td>\n",
              "      <td>6590300.0</td>\n",
              "    </tr>\n",
              "    <tr>\n",
              "      <th>3</th>\n",
              "      <td>1/6/2012</td>\n",
              "      <td>328.34</td>\n",
              "      <td>328.77</td>\n",
              "      <td>323.68</td>\n",
              "      <td>648.24</td>\n",
              "      <td>5405900.0</td>\n",
              "    </tr>\n",
              "    <tr>\n",
              "      <th>4</th>\n",
              "      <td>1/9/2012</td>\n",
              "      <td>322.04</td>\n",
              "      <td>322.29</td>\n",
              "      <td>309.46</td>\n",
              "      <td>620.76</td>\n",
              "      <td>11688800.0</td>\n",
              "    </tr>\n",
              "    <tr>\n",
              "      <th>...</th>\n",
              "      <td>...</td>\n",
              "      <td>...</td>\n",
              "      <td>...</td>\n",
              "      <td>...</td>\n",
              "      <td>...</td>\n",
              "      <td>...</td>\n",
              "    </tr>\n",
              "    <tr>\n",
              "      <th>1253</th>\n",
              "      <td>12/23/2016</td>\n",
              "      <td>790.90</td>\n",
              "      <td>792.74</td>\n",
              "      <td>787.28</td>\n",
              "      <td>789.91</td>\n",
              "      <td>623400.0</td>\n",
              "    </tr>\n",
              "    <tr>\n",
              "      <th>1254</th>\n",
              "      <td>12/27/2016</td>\n",
              "      <td>790.68</td>\n",
              "      <td>797.86</td>\n",
              "      <td>787.66</td>\n",
              "      <td>791.55</td>\n",
              "      <td>789100.0</td>\n",
              "    </tr>\n",
              "    <tr>\n",
              "      <th>1255</th>\n",
              "      <td>12/28/2016</td>\n",
              "      <td>793.70</td>\n",
              "      <td>794.23</td>\n",
              "      <td>783.20</td>\n",
              "      <td>785.05</td>\n",
              "      <td>1153800.0</td>\n",
              "    </tr>\n",
              "    <tr>\n",
              "      <th>1256</th>\n",
              "      <td>12/29/2016</td>\n",
              "      <td>783.33</td>\n",
              "      <td>785.93</td>\n",
              "      <td>778.92</td>\n",
              "      <td>782.79</td>\n",
              "      <td>744300.0</td>\n",
              "    </tr>\n",
              "    <tr>\n",
              "      <th>1257</th>\n",
              "      <td>12/30/2016</td>\n",
              "      <td>782.75</td>\n",
              "      <td>782.78</td>\n",
              "      <td>770.41</td>\n",
              "      <td>771.82</td>\n",
              "      <td>1770000.0</td>\n",
              "    </tr>\n",
              "  </tbody>\n",
              "</table>\n",
              "<p>1258 rows × 6 columns</p>\n",
              "</div>\n",
              "      <button class=\"colab-df-convert\" onclick=\"convertToInteractive('df-23173b13-c6b7-42de-846e-7e39cffea040')\"\n",
              "              title=\"Convert this dataframe to an interactive table.\"\n",
              "              style=\"display:none;\">\n",
              "        \n",
              "  <svg xmlns=\"http://www.w3.org/2000/svg\" height=\"24px\"viewBox=\"0 0 24 24\"\n",
              "       width=\"24px\">\n",
              "    <path d=\"M0 0h24v24H0V0z\" fill=\"none\"/>\n",
              "    <path d=\"M18.56 5.44l.94 2.06.94-2.06 2.06-.94-2.06-.94-.94-2.06-.94 2.06-2.06.94zm-11 1L8.5 8.5l.94-2.06 2.06-.94-2.06-.94L8.5 2.5l-.94 2.06-2.06.94zm10 10l.94 2.06.94-2.06 2.06-.94-2.06-.94-.94-2.06-.94 2.06-2.06.94z\"/><path d=\"M17.41 7.96l-1.37-1.37c-.4-.4-.92-.59-1.43-.59-.52 0-1.04.2-1.43.59L10.3 9.45l-7.72 7.72c-.78.78-.78 2.05 0 2.83L4 21.41c.39.39.9.59 1.41.59.51 0 1.02-.2 1.41-.59l7.78-7.78 2.81-2.81c.8-.78.8-2.07 0-2.86zM5.41 20L4 18.59l7.72-7.72 1.47 1.35L5.41 20z\"/>\n",
              "  </svg>\n",
              "      </button>\n",
              "      \n",
              "  <style>\n",
              "    .colab-df-container {\n",
              "      display:flex;\n",
              "      flex-wrap:wrap;\n",
              "      gap: 12px;\n",
              "    }\n",
              "\n",
              "    .colab-df-convert {\n",
              "      background-color: #E8F0FE;\n",
              "      border: none;\n",
              "      border-radius: 50%;\n",
              "      cursor: pointer;\n",
              "      display: none;\n",
              "      fill: #1967D2;\n",
              "      height: 32px;\n",
              "      padding: 0 0 0 0;\n",
              "      width: 32px;\n",
              "    }\n",
              "\n",
              "    .colab-df-convert:hover {\n",
              "      background-color: #E2EBFA;\n",
              "      box-shadow: 0px 1px 2px rgba(60, 64, 67, 0.3), 0px 1px 3px 1px rgba(60, 64, 67, 0.15);\n",
              "      fill: #174EA6;\n",
              "    }\n",
              "\n",
              "    [theme=dark] .colab-df-convert {\n",
              "      background-color: #3B4455;\n",
              "      fill: #D2E3FC;\n",
              "    }\n",
              "\n",
              "    [theme=dark] .colab-df-convert:hover {\n",
              "      background-color: #434B5C;\n",
              "      box-shadow: 0px 1px 3px 1px rgba(0, 0, 0, 0.15);\n",
              "      filter: drop-shadow(0px 1px 2px rgba(0, 0, 0, 0.3));\n",
              "      fill: #FFFFFF;\n",
              "    }\n",
              "  </style>\n",
              "\n",
              "      <script>\n",
              "        const buttonEl =\n",
              "          document.querySelector('#df-23173b13-c6b7-42de-846e-7e39cffea040 button.colab-df-convert');\n",
              "        buttonEl.style.display =\n",
              "          google.colab.kernel.accessAllowed ? 'block' : 'none';\n",
              "\n",
              "        async function convertToInteractive(key) {\n",
              "          const element = document.querySelector('#df-23173b13-c6b7-42de-846e-7e39cffea040');\n",
              "          const dataTable =\n",
              "            await google.colab.kernel.invokeFunction('convertToInteractive',\n",
              "                                                     [key], {});\n",
              "          if (!dataTable) return;\n",
              "\n",
              "          const docLinkHtml = 'Like what you see? Visit the ' +\n",
              "            '<a target=\"_blank\" href=https://colab.research.google.com/notebooks/data_table.ipynb>data table notebook</a>'\n",
              "            + ' to learn more about interactive tables.';\n",
              "          element.innerHTML = '';\n",
              "          dataTable['output_type'] = 'display_data';\n",
              "          await google.colab.output.renderOutput(dataTable, element);\n",
              "          const docLink = document.createElement('div');\n",
              "          docLink.innerHTML = docLinkHtml;\n",
              "          element.appendChild(docLink);\n",
              "        }\n",
              "      </script>\n",
              "    </div>\n",
              "  </div>\n",
              "  "
            ]
          },
          "metadata": {},
          "execution_count": 11
        }
      ]
    },
    {
      "cell_type": "code",
      "execution_count": 12,
      "metadata": {
        "id": "aJdleHtD7_-T"
      },
      "outputs": [],
      "source": [
        "scaler = MinMaxScaler()\n",
        "data_without_date = data[['Open','High','Low','Close','Volume']]\n",
        "data_scaled = pd.DataFrame(scaler.fit_transform(data_without_date))"
      ]
    },
    {
      "cell_type": "code",
      "source": [
        "data_scaled"
      ],
      "metadata": {
        "colab": {
          "base_uri": "https://localhost:8080/",
          "height": 423
        },
        "id": "ABbyybHa9nKs",
        "outputId": "c0e5b232-4d62-4957-f467-74bcb0b50ce8"
      },
      "execution_count": 13,
      "outputs": [
        {
          "output_type": "execute_result",
          "data": {
            "text/plain": [
              "             0         1         2         3         4\n",
              "0     0.085814  0.096401  0.090449  0.237573  0.295258\n",
              "1     0.097012  0.098344  0.098235  0.241514  0.229936\n",
              "2     0.094334  0.092517  0.094086  0.228781  0.263612\n",
              "3     0.091562  0.088819  0.088006  0.216419  0.216179\n",
              "4     0.079842  0.076718  0.061070  0.178548  0.467797\n",
              "...        ...       ...       ...       ...       ...\n",
              "1253  0.952043  0.955292  0.966169  0.411656  0.024650\n",
              "1254  0.951633  0.964853  0.966889  0.413916  0.031286\n",
              "1255  0.957251  0.958074  0.958441  0.404958  0.045891\n",
              "1256  0.937960  0.942574  0.950333  0.401844  0.029491\n",
              "1257  0.936881  0.936691  0.934214  0.386726  0.070569\n",
              "\n",
              "[1258 rows x 5 columns]"
            ],
            "text/html": [
              "\n",
              "  <div id=\"df-4131246c-ddce-4ff8-a727-824a75b55941\">\n",
              "    <div class=\"colab-df-container\">\n",
              "      <div>\n",
              "<style scoped>\n",
              "    .dataframe tbody tr th:only-of-type {\n",
              "        vertical-align: middle;\n",
              "    }\n",
              "\n",
              "    .dataframe tbody tr th {\n",
              "        vertical-align: top;\n",
              "    }\n",
              "\n",
              "    .dataframe thead th {\n",
              "        text-align: right;\n",
              "    }\n",
              "</style>\n",
              "<table border=\"1\" class=\"dataframe\">\n",
              "  <thead>\n",
              "    <tr style=\"text-align: right;\">\n",
              "      <th></th>\n",
              "      <th>0</th>\n",
              "      <th>1</th>\n",
              "      <th>2</th>\n",
              "      <th>3</th>\n",
              "      <th>4</th>\n",
              "    </tr>\n",
              "  </thead>\n",
              "  <tbody>\n",
              "    <tr>\n",
              "      <th>0</th>\n",
              "      <td>0.085814</td>\n",
              "      <td>0.096401</td>\n",
              "      <td>0.090449</td>\n",
              "      <td>0.237573</td>\n",
              "      <td>0.295258</td>\n",
              "    </tr>\n",
              "    <tr>\n",
              "      <th>1</th>\n",
              "      <td>0.097012</td>\n",
              "      <td>0.098344</td>\n",
              "      <td>0.098235</td>\n",
              "      <td>0.241514</td>\n",
              "      <td>0.229936</td>\n",
              "    </tr>\n",
              "    <tr>\n",
              "      <th>2</th>\n",
              "      <td>0.094334</td>\n",
              "      <td>0.092517</td>\n",
              "      <td>0.094086</td>\n",
              "      <td>0.228781</td>\n",
              "      <td>0.263612</td>\n",
              "    </tr>\n",
              "    <tr>\n",
              "      <th>3</th>\n",
              "      <td>0.091562</td>\n",
              "      <td>0.088819</td>\n",
              "      <td>0.088006</td>\n",
              "      <td>0.216419</td>\n",
              "      <td>0.216179</td>\n",
              "    </tr>\n",
              "    <tr>\n",
              "      <th>4</th>\n",
              "      <td>0.079842</td>\n",
              "      <td>0.076718</td>\n",
              "      <td>0.061070</td>\n",
              "      <td>0.178548</td>\n",
              "      <td>0.467797</td>\n",
              "    </tr>\n",
              "    <tr>\n",
              "      <th>...</th>\n",
              "      <td>...</td>\n",
              "      <td>...</td>\n",
              "      <td>...</td>\n",
              "      <td>...</td>\n",
              "      <td>...</td>\n",
              "    </tr>\n",
              "    <tr>\n",
              "      <th>1253</th>\n",
              "      <td>0.952043</td>\n",
              "      <td>0.955292</td>\n",
              "      <td>0.966169</td>\n",
              "      <td>0.411656</td>\n",
              "      <td>0.024650</td>\n",
              "    </tr>\n",
              "    <tr>\n",
              "      <th>1254</th>\n",
              "      <td>0.951633</td>\n",
              "      <td>0.964853</td>\n",
              "      <td>0.966889</td>\n",
              "      <td>0.413916</td>\n",
              "      <td>0.031286</td>\n",
              "    </tr>\n",
              "    <tr>\n",
              "      <th>1255</th>\n",
              "      <td>0.957251</td>\n",
              "      <td>0.958074</td>\n",
              "      <td>0.958441</td>\n",
              "      <td>0.404958</td>\n",
              "      <td>0.045891</td>\n",
              "    </tr>\n",
              "    <tr>\n",
              "      <th>1256</th>\n",
              "      <td>0.937960</td>\n",
              "      <td>0.942574</td>\n",
              "      <td>0.950333</td>\n",
              "      <td>0.401844</td>\n",
              "      <td>0.029491</td>\n",
              "    </tr>\n",
              "    <tr>\n",
              "      <th>1257</th>\n",
              "      <td>0.936881</td>\n",
              "      <td>0.936691</td>\n",
              "      <td>0.934214</td>\n",
              "      <td>0.386726</td>\n",
              "      <td>0.070569</td>\n",
              "    </tr>\n",
              "  </tbody>\n",
              "</table>\n",
              "<p>1258 rows × 5 columns</p>\n",
              "</div>\n",
              "      <button class=\"colab-df-convert\" onclick=\"convertToInteractive('df-4131246c-ddce-4ff8-a727-824a75b55941')\"\n",
              "              title=\"Convert this dataframe to an interactive table.\"\n",
              "              style=\"display:none;\">\n",
              "        \n",
              "  <svg xmlns=\"http://www.w3.org/2000/svg\" height=\"24px\"viewBox=\"0 0 24 24\"\n",
              "       width=\"24px\">\n",
              "    <path d=\"M0 0h24v24H0V0z\" fill=\"none\"/>\n",
              "    <path d=\"M18.56 5.44l.94 2.06.94-2.06 2.06-.94-2.06-.94-.94-2.06-.94 2.06-2.06.94zm-11 1L8.5 8.5l.94-2.06 2.06-.94-2.06-.94L8.5 2.5l-.94 2.06-2.06.94zm10 10l.94 2.06.94-2.06 2.06-.94-2.06-.94-.94-2.06-.94 2.06-2.06.94z\"/><path d=\"M17.41 7.96l-1.37-1.37c-.4-.4-.92-.59-1.43-.59-.52 0-1.04.2-1.43.59L10.3 9.45l-7.72 7.72c-.78.78-.78 2.05 0 2.83L4 21.41c.39.39.9.59 1.41.59.51 0 1.02-.2 1.41-.59l7.78-7.78 2.81-2.81c.8-.78.8-2.07 0-2.86zM5.41 20L4 18.59l7.72-7.72 1.47 1.35L5.41 20z\"/>\n",
              "  </svg>\n",
              "      </button>\n",
              "      \n",
              "  <style>\n",
              "    .colab-df-container {\n",
              "      display:flex;\n",
              "      flex-wrap:wrap;\n",
              "      gap: 12px;\n",
              "    }\n",
              "\n",
              "    .colab-df-convert {\n",
              "      background-color: #E8F0FE;\n",
              "      border: none;\n",
              "      border-radius: 50%;\n",
              "      cursor: pointer;\n",
              "      display: none;\n",
              "      fill: #1967D2;\n",
              "      height: 32px;\n",
              "      padding: 0 0 0 0;\n",
              "      width: 32px;\n",
              "    }\n",
              "\n",
              "    .colab-df-convert:hover {\n",
              "      background-color: #E2EBFA;\n",
              "      box-shadow: 0px 1px 2px rgba(60, 64, 67, 0.3), 0px 1px 3px 1px rgba(60, 64, 67, 0.15);\n",
              "      fill: #174EA6;\n",
              "    }\n",
              "\n",
              "    [theme=dark] .colab-df-convert {\n",
              "      background-color: #3B4455;\n",
              "      fill: #D2E3FC;\n",
              "    }\n",
              "\n",
              "    [theme=dark] .colab-df-convert:hover {\n",
              "      background-color: #434B5C;\n",
              "      box-shadow: 0px 1px 3px 1px rgba(0, 0, 0, 0.15);\n",
              "      filter: drop-shadow(0px 1px 2px rgba(0, 0, 0, 0.3));\n",
              "      fill: #FFFFFF;\n",
              "    }\n",
              "  </style>\n",
              "\n",
              "      <script>\n",
              "        const buttonEl =\n",
              "          document.querySelector('#df-4131246c-ddce-4ff8-a727-824a75b55941 button.colab-df-convert');\n",
              "        buttonEl.style.display =\n",
              "          google.colab.kernel.accessAllowed ? 'block' : 'none';\n",
              "\n",
              "        async function convertToInteractive(key) {\n",
              "          const element = document.querySelector('#df-4131246c-ddce-4ff8-a727-824a75b55941');\n",
              "          const dataTable =\n",
              "            await google.colab.kernel.invokeFunction('convertToInteractive',\n",
              "                                                     [key], {});\n",
              "          if (!dataTable) return;\n",
              "\n",
              "          const docLinkHtml = 'Like what you see? Visit the ' +\n",
              "            '<a target=\"_blank\" href=https://colab.research.google.com/notebooks/data_table.ipynb>data table notebook</a>'\n",
              "            + ' to learn more about interactive tables.';\n",
              "          element.innerHTML = '';\n",
              "          dataTable['output_type'] = 'display_data';\n",
              "          await google.colab.output.renderOutput(dataTable, element);\n",
              "          const docLink = document.createElement('div');\n",
              "          docLink.innerHTML = docLinkHtml;\n",
              "          element.appendChild(docLink);\n",
              "        }\n",
              "      </script>\n",
              "    </div>\n",
              "  </div>\n",
              "  "
            ]
          },
          "metadata": {},
          "execution_count": 13
        }
      ]
    },
    {
      "cell_type": "code",
      "execution_count": 14,
      "metadata": {
        "colab": {
          "base_uri": "https://localhost:8080/",
          "height": 506
        },
        "id": "V2uoQDcR9LWu",
        "outputId": "5d846265-281e-4195-f653-52657172029b"
      },
      "outputs": [
        {
          "output_type": "execute_result",
          "data": {
            "text/plain": [
              "array([[<Axes: title={'center': '0'}>, <Axes: title={'center': '1'}>],\n",
              "       [<Axes: title={'center': '2'}>, <Axes: title={'center': '3'}>],\n",
              "       [<Axes: title={'center': '4'}>, <Axes: >]], dtype=object)"
            ]
          },
          "metadata": {},
          "execution_count": 14
        },
        {
          "output_type": "display_data",
          "data": {
            "text/plain": [
              "<Figure size 640x480 with 6 Axes>"
            ],
            "image/png": "[encoded data removed]"
          },
          "metadata": {}
        }
      ],
      "source": [
        "data_scaled.hist()"
      ]
    },
    {
      "cell_type": "markdown",
      "metadata": {
        "id": "m62EUqTk9TZR"
      },
      "source": [
        "Feature Engineering\n",
        "Drawing the Correlation Matrix Correlation Coefficient checking mechanism checks the relationship between the different features with the predicting attribute."
      ]
    },
    {
      "cell_type": "code",
      "execution_count": 15,
      "metadata": {
        "colab": {
          "base_uri": "https://localhost:8080/",
          "height": 602
        },
        "id": "ymm4t1on9T5J",
        "outputId": "c19ee513-0b58-4b33-8a74-5fe2491c853b"
      },
      "outputs": [
        {
          "output_type": "stream",
          "name": "stderr",
          "text": [
            "<ipython-input-15-373595b0d5cd>:2: FutureWarning: The default value of numeric_only in DataFrame.corr is deprecated. In a future version, it will default to False. Select only valid columns or specify the value of numeric_only to silence this warning.\n",
            "  sns.heatmap(data.corr())\n"
          ]
        },
        {
          "output_type": "execute_result",
          "data": {
            "text/plain": [
              "<Axes: >"
            ]
          },
          "metadata": {},
          "execution_count": 15
        },
        {
          "output_type": "display_data",
          "data": {
            "text/plain": [
              "<Figure size 600x600 with 2 Axes>"
            ],
            "image/png": "[encoded data removed]"
          },
          "metadata": {}
        }
      ],
      "source": [
        "plt.figure(figsize=(6,6))\n",
        "sns.heatmap(data.corr())"
      ]
    },
    {
      "cell_type": "markdown",
      "metadata": {
        "id": "mQOBcIep9Z54"
      },
      "source": [
        "We can see from the correlation matrix that the features Open, High, and Low, all are highly correlated with each other. Therefore, it is sufficient to consider only one feature from the above 3 features and remove the rest.\n",
        "\n",
        "Furthermore, I am removing the Close field since it contains many abnormal data values, which is like a contexual outlier.\n",
        "\n"
      ]
    },
    {
      "cell_type": "code",
      "execution_count": 16,
      "metadata": {
        "colab": {
          "base_uri": "https://localhost:8080/",
          "height": 423
        },
        "id": "jj1h-1Kh9hax",
        "outputId": "8097b17a-c46c-47af-b34a-48c14d1ab28e"
      },
      "outputs": [
        {
          "output_type": "execute_result",
          "data": {
            "text/plain": [
              "             0         3\n",
              "0     0.085814  0.237573\n",
              "1     0.097012  0.241514\n",
              "2     0.094334  0.228781\n",
              "3     0.091562  0.216419\n",
              "4     0.079842  0.178548\n",
              "...        ...       ...\n",
              "1253  0.952043  0.411656\n",
              "1254  0.951633  0.413916\n",
              "1255  0.957251  0.404958\n",
              "1256  0.937960  0.401844\n",
              "1257  0.936881  0.386726\n",
              "\n",
              "[1258 rows x 2 columns]"
            ],
            "text/html": [
              "\n",
              "  <div id=\"df-cacb3eb6-1d32-4b7b-b283-c6d545def45d\">\n",
              "    <div class=\"colab-df-container\">\n",
              "      <div>\n",
              "<style scoped>\n",
              "    .dataframe tbody tr th:only-of-type {\n",
              "        vertical-align: middle;\n",
              "    }\n",
              "\n",
              "    .dataframe tbody tr th {\n",
              "        vertical-align: top;\n",
              "    }\n",
              "\n",
              "    .dataframe thead th {\n",
              "        text-align: right;\n",
              "    }\n",
              "</style>\n",
              "<table border=\"1\" class=\"dataframe\">\n",
              "  <thead>\n",
              "    <tr style=\"text-align: right;\">\n",
              "      <th></th>\n",
              "      <th>0</th>\n",
              "      <th>3</th>\n",
              "    </tr>\n",
              "  </thead>\n",
              "  <tbody>\n",
              "    <tr>\n",
              "      <th>0</th>\n",
              "      <td>0.085814</td>\n",
              "      <td>0.237573</td>\n",
              "    </tr>\n",
              "    <tr>\n",
              "      <th>1</th>\n",
              "      <td>0.097012</td>\n",
              "      <td>0.241514</td>\n",
              "    </tr>\n",
              "    <tr>\n",
              "      <th>2</th>\n",
              "      <td>0.094334</td>\n",
              "      <td>0.228781</td>\n",
              "    </tr>\n",
              "    <tr>\n",
              "      <th>3</th>\n",
              "      <td>0.091562</td>\n",
              "      <td>0.216419</td>\n",
              "    </tr>\n",
              "    <tr>\n",
              "      <th>4</th>\n",
              "      <td>0.079842</td>\n",
              "      <td>0.178548</td>\n",
              "    </tr>\n",
              "    <tr>\n",
              "      <th>...</th>\n",
              "      <td>...</td>\n",
              "      <td>...</td>\n",
              "    </tr>\n",
              "    <tr>\n",
              "      <th>1253</th>\n",
              "      <td>0.952043</td>\n",
              "      <td>0.411656</td>\n",
              "    </tr>\n",
              "    <tr>\n",
              "      <th>1254</th>\n",
              "      <td>0.951633</td>\n",
              "      <td>0.413916</td>\n",
              "    </tr>\n",
              "    <tr>\n",
              "      <th>1255</th>\n",
              "      <td>0.957251</td>\n",
              "      <td>0.404958</td>\n",
              "    </tr>\n",
              "    <tr>\n",
              "      <th>1256</th>\n",
              "      <td>0.937960</td>\n",
              "      <td>0.401844</td>\n",
              "    </tr>\n",
              "    <tr>\n",
              "      <th>1257</th>\n",
              "      <td>0.936881</td>\n",
              "      <td>0.386726</td>\n",
              "    </tr>\n",
              "  </tbody>\n",
              "</table>\n",
              "<p>1258 rows × 2 columns</p>\n",
              "</div>\n",
              "      <button class=\"colab-df-convert\" onclick=\"convertToInteractive('df-cacb3eb6-1d32-4b7b-b283-c6d545def45d')\"\n",
              "              title=\"Convert this dataframe to an interactive table.\"\n",
              "              style=\"display:none;\">\n",
              "        \n",
              "  <svg xmlns=\"http://www.w3.org/2000/svg\" height=\"24px\"viewBox=\"0 0 24 24\"\n",
              "       width=\"24px\">\n",
              "    <path d=\"M0 0h24v24H0V0z\" fill=\"none\"/>\n",
              "    <path d=\"M18.56 5.44l.94 2.06.94-2.06 2.06-.94-2.06-.94-.94-2.06-.94 2.06-2.06.94zm-11 1L8.5 8.5l.94-2.06 2.06-.94-2.06-.94L8.5 2.5l-.94 2.06-2.06.94zm10 10l.94 2.06.94-2.06 2.06-.94-2.06-.94-.94-2.06-.94 2.06-2.06.94z\"/><path d=\"M17.41 7.96l-1.37-1.37c-.4-.4-.92-.59-1.43-.59-.52 0-1.04.2-1.43.59L10.3 9.45l-7.72 7.72c-.78.78-.78 2.05 0 2.83L4 21.41c.39.39.9.59 1.41.59.51 0 1.02-.2 1.41-.59l7.78-7.78 2.81-2.81c.8-.78.8-2.07 0-2.86zM5.41 20L4 18.59l7.72-7.72 1.47 1.35L5.41 20z\"/>\n",
              "  </svg>\n",
              "      </button>\n",
              "      \n",
              "  <style>\n",
              "    .colab-df-container {\n",
              "      display:flex;\n",
              "      flex-wrap:wrap;\n",
              "      gap: 12px;\n",
              "    }\n",
              "\n",
              "    .colab-df-convert {\n",
              "      background-color: #E8F0FE;\n",
              "      border: none;\n",
              "      border-radius: 50%;\n",
              "      cursor: pointer;\n",
              "      display: none;\n",
              "      fill: #1967D2;\n",
              "      height: 32px;\n",
              "      padding: 0 0 0 0;\n",
              "      width: 32px;\n",
              "    }\n",
              "\n",
              "    .colab-df-convert:hover {\n",
              "      background-color: #E2EBFA;\n",
              "      box-shadow: 0px 1px 2px rgba(60, 64, 67, 0.3), 0px 1px 3px 1px rgba(60, 64, 67, 0.15);\n",
              "      fill: #174EA6;\n",
              "    }\n",
              "\n",
              "    [theme=dark] .colab-df-convert {\n",
              "      background-color: #3B4455;\n",
              "      fill: #D2E3FC;\n",
              "    }\n",
              "\n",
              "    [theme=dark] .colab-df-convert:hover {\n",
              "      background-color: #434B5C;\n",
              "      box-shadow: 0px 1px 3px 1px rgba(0, 0, 0, 0.15);\n",
              "      filter: drop-shadow(0px 1px 2px rgba(0, 0, 0, 0.3));\n",
              "      fill: #FFFFFF;\n",
              "    }\n",
              "  </style>\n",
              "\n",
              "      <script>\n",
              "        const buttonEl =\n",
              "          document.querySelector('#df-cacb3eb6-1d32-4b7b-b283-c6d545def45d button.colab-df-convert');\n",
              "        buttonEl.style.display =\n",
              "          google.colab.kernel.accessAllowed ? 'block' : 'none';\n",
              "\n",
              "        async function convertToInteractive(key) {\n",
              "          const element = document.querySelector('#df-cacb3eb6-1d32-4b7b-b283-c6d545def45d');\n",
              "          const dataTable =\n",
              "            await google.colab.kernel.invokeFunction('convertToInteractive',\n",
              "                                                     [key], {});\n",
              "          if (!dataTable) return;\n",
              "\n",
              "          const docLinkHtml = 'Like what you see? Visit the ' +\n",
              "            '<a target=\"_blank\" href=https://colab.research.google.com/notebooks/data_table.ipynb>data table notebook</a>'\n",
              "            + ' to learn more about interactive tables.';\n",
              "          element.innerHTML = '';\n",
              "          dataTable['output_type'] = 'display_data';\n",
              "          await google.colab.output.renderOutput(dataTable, element);\n",
              "          const docLink = document.createElement('div');\n",
              "          docLink.innerHTML = docLinkHtml;\n",
              "          element.appendChild(docLink);\n",
              "        }\n",
              "      </script>\n",
              "    </div>\n",
              "  </div>\n",
              "  "
            ]
          },
          "metadata": {},
          "execution_count": 16
        }
      ],
      "source": [
        "data_scaled=data_scaled.drop([1,2,4], axis=1)\n",
        "data_scaled"
      ]
    },
    {
      "cell_type": "markdown",
      "metadata": {
        "id": "t__wi6qB91xB"
      },
      "source": [
        "Developing the RNN Model\n",
        "\n",
        "When developing an RNN Model, we have to reshape the data that we are feeding into the model. To do that, first we have to find a pattern in the data available and define the number of timesteps according to the pattern.\n",
        "\n",
        "When considering the plots we have created for this we could not see a clear cut pattern/trend in the data by just visual inspection. Therefore, I have taken the following code snippet to split the data into a sequence by trying to identify any pattern available.\n",
        "\n",
        "Since there are two features in our dataset after cleaning, I have used a split sequence method for a multivariate dataset."
      ]
    },
    {
      "cell_type": "code",
      "execution_count": 17,
      "metadata": {
        "id": "SQw3OodT92PA"
      },
      "outputs": [],
      "source": [
        "def split_seq_multivariate(sequence, n_past, n_future):\n",
        "    \n",
        "    '''\n",
        "    n_past ==> no of past observations\n",
        "    n_future ==> no of future observations \n",
        "    '''\n",
        "    x, y = [], [] \n",
        "    for window_start in range(len(sequence)):\n",
        "        past_end = window_start + n_past\n",
        "        future_end = past_end + n_future\n",
        "        if future_end > len(sequence):\n",
        "            break\n",
        "        # slicing the past and future parts of the window\n",
        "        past   = sequence[window_start:past_end, :]\n",
        "        future = sequence[past_end:future_end, -1]\n",
        "        x.append(past)\n",
        "        y.append(future)\n",
        "    \n",
        "    return np.array(x), np.array(y)\n",
        "     "
      ]
    },
    {
      "cell_type": "markdown",
      "metadata": {
        "id": "apts1nn5-Pg3"
      },
      "source": [
        "In RNN, since we are dealing with time series data, we have to specify how many past data points we will be considering when generating the sequence.\n",
        "\n",
        "In here, i have taken 60 past data points (time steps) when generating the data sequences."
      ]
    },
    {
      "cell_type": "code",
      "execution_count": 18,
      "metadata": {
        "colab": {
          "base_uri": "https://localhost:8080/"
        },
        "id": "gBIcd9a5-P8b",
        "outputId": "d55c902f-a4f0-42c8-86df-ca40e09cdcbf"
      },
      "outputs": [
        {
          "output_type": "execute_result",
          "data": {
            "text/plain": [
              "(1258, 2)"
            ]
          },
          "metadata": {},
          "execution_count": 18
        }
      ],
      "source": [
        "# specify the window size\n",
        "n_steps = 60\n",
        "\n",
        "data_scaled = data_scaled.to_numpy()\n",
        "data_scaled.shape"
      ]
    },
    {
      "cell_type": "markdown",
      "metadata": {
        "id": "JeImUoF7-Uxh"
      },
      "source": [
        "Next, I am using the split_seq_multivariate function to split the dataset into sequences."
      ]
    },
    {
      "cell_type": "code",
      "execution_count": 19,
      "metadata": {
        "id": "Fjepo6pt-VwQ"
      },
      "outputs": [],
      "source": [
        "# split into samples\n",
        "X, y = split_seq_multivariate(data_scaled, n_steps,1)"
      ]
    },
    {
      "cell_type": "code",
      "source": [
        "X[1].shape"
      ],
      "metadata": {
        "colab": {
          "base_uri": "https://localhost:8080/"
        },
        "id": "qSi7iBE1DBC-",
        "outputId": "f73b42c6-cf14-4732-9f6a-2a0064254c79"
      },
      "execution_count": 20,
      "outputs": [
        {
          "output_type": "execute_result",
          "data": {
            "text/plain": [
              "(60, 2)"
            ]
          },
          "metadata": {},
          "execution_count": 20
        }
      ]
    },
    {
      "cell_type": "code",
      "source": [
        "y"
      ],
      "metadata": {
        "colab": {
          "base_uri": "https://localhost:8080/"
        },
        "id": "KbNpqd79DGYD",
        "outputId": "d9e846d5-07d9-4107-9ea9-d4344bd5afee"
      },
      "execution_count": 21,
      "outputs": [
        {
          "output_type": "execute_result",
          "data": {
            "text/plain": [
              "array([[0.21420007],\n",
              "       [0.20434657],\n",
              "       [0.21216047],\n",
              "       ...,\n",
              "       [0.40495845],\n",
              "       [0.40184391],\n",
              "       [0.38672602]])"
            ]
          },
          "metadata": {},
          "execution_count": 21
        }
      ]
    },
    {
      "cell_type": "code",
      "execution_count": 22,
      "metadata": {
        "colab": {
          "base_uri": "https://localhost:8080/"
        },
        "id": "wvMWWLi3-Y-_",
        "outputId": "0b49df50-d378-42de-dac9-2a9a26d17189"
      },
      "outputs": [
        {
          "output_type": "stream",
          "name": "stdout",
          "text": [
            "(1198, 60, 2)\n",
            "(1198, 1)\n"
          ]
        },
        {
          "output_type": "execute_result",
          "data": {
            "text/plain": [
              "(1198,)"
            ]
          },
          "metadata": {},
          "execution_count": 22
        }
      ],
      "source": [
        "# X is in the shape of [samples, timesteps, features]\n",
        "print(X.shape)\n",
        "print(y.shape)\n",
        "\n",
        "# make y to the shape of [samples]\n",
        "y=y[:,0]\n",
        "y.shape\n"
      ]
    },
    {
      "cell_type": "markdown",
      "metadata": {
        "id": "zqoK2Gym-dcN"
      },
      "source": [
        "Splitting the Data\n",
        "\n",
        "In this step, I will be splitting the sequenced data into train and test sections with 0.2 test size.\n",
        "\n",
        "Furthermore, i have split the training set again to train and validation data. I have not used the test data to do the validation because validation data are used to fine tune the model, and if i used the testing data for validation purposes, then those data will be already seen by the model when trying to predict them later.\n"
      ]
    },
    {
      "cell_type": "code",
      "execution_count": 23,
      "metadata": {
        "colab": {
          "base_uri": "https://localhost:8080/"
        },
        "id": "AkQ2UaG9-eN7",
        "outputId": "84f174ff-e603-493e-eed3-16b2e4c03cc6"
      },
      "outputs": [
        {
          "output_type": "stream",
          "name": "stdout",
          "text": [
            "(958, 60, 2) (240, 60, 2) (958,) (240,)\n"
          ]
        }
      ],
      "source": [
        "# split into train/test\n",
        "X_train, X_test, y_train, y_test = train_test_split(X,y,test_size=0.2,random_state=50)\n",
        "\n",
        "print(X_train.shape, X_test.shape, y_train.shape, y_test.shape)\n"
      ]
    },
    {
      "cell_type": "code",
      "execution_count": 24,
      "metadata": {
        "colab": {
          "base_uri": "https://localhost:8080/"
        },
        "id": "XCJDevru_K14",
        "outputId": "16420897-d0b5-4a40-e191-350ae69a8757"
      },
      "outputs": [
        {
          "output_type": "stream",
          "name": "stdout",
          "text": [
            "(766, 60, 2) (192, 60, 2) (766,) (192,)\n"
          ]
        }
      ],
      "source": [
        "# further dividing the training set into train and validation data\n",
        "X_train, X_val, y_train, y_val = train_test_split(X_train,y_train,test_size=0.2,random_state=30)\n",
        "\n",
        "print(X_train.shape, X_val.shape, y_train.shape, y_val.shape)"
      ]
    },
    {
      "cell_type": "markdown",
      "metadata": {
        "id": "q6jHhyu7_S7X"
      },
      "source": [
        "Next I am defining the model using Tensorflow Keras LSTM and Dense layers.\n",
        "\n",
        "In the LSTM layer, i have not specified the activation function explicitly because in the Keras Documentation it is specified that the default activation function for LSTM is tanh and default recurrent activation function is sigmoid. Therefore those default acivation functions will be used here.\n",
        "\n",
        "Define Model"
      ]
    },
    {
      "cell_type": "code",
      "execution_count": 25,
      "metadata": {
        "id": "NeMXXdOb_Tx6"
      },
      "outputs": [],
      "source": [
        "# define RNN model\n",
        "model = Sequential()\n",
        "model.add(LSTM(612, input_shape=(n_steps,2)))\n",
        "model.add(Dense(50, activation='relu'))\n",
        "model.add(Dense(50, activation='relu'))\n",
        "model.add(Dense(30, activation='relu'))\n",
        "model.add(Dense(1))"
      ]
    },
    {
      "cell_type": "markdown",
      "metadata": {
        "id": "CcozGktb_aDh"
      },
      "source": [
        "The following code line gives a summary of the model we have created, mentioning each layers information."
      ]
    },
    {
      "cell_type": "code",
      "execution_count": 26,
      "metadata": {
        "colab": {
          "base_uri": "https://localhost:8080/"
        },
        "id": "4HEFNgyE_av8",
        "outputId": "07d21b09-0eca-4000-cfa0-e6ef80480af2"
      },
      "outputs": [
        {
          "output_type": "stream",
          "name": "stdout",
          "text": [
            "Model: \"sequential\"\n",
            "_________________________________________________________________\n",
            " Layer (type)                Output Shape              Param #   \n",
            "=================================================================\n",
            " lstm (LSTM)                 (None, 612)               1505520   \n",
            "                                                                 \n",
            " dense (Dense)               (None, 50)                30650     \n",
            "                                                                 \n",
            " dense_1 (Dense)             (None, 50)                2550      \n",
            "                                                                 \n",
            " dense_2 (Dense)             (None, 30)                1530      \n",
            "                                                                 \n",
            " dense_3 (Dense)             (None, 1)                 31        \n",
            "                                                                 \n",
            "=================================================================\n",
            "Total params: 1,540,281\n",
            "Trainable params: 1,540,281\n",
            "Non-trainable params: 0\n",
            "_________________________________________________________________\n"
          ]
        }
      ],
      "source": [
        "model.summary()"
      ]
    },
    {
      "cell_type": "markdown",
      "metadata": {
        "id": "38zjZq5Q_hPd"
      },
      "source": [
        "Compiling and Training the Model\n",
        "\n",
        "Next we will be compiling and fitting the model with the training data, and using the validation data to fine tune our model."
      ]
    },
    {
      "cell_type": "code",
      "execution_count": 27,
      "metadata": {
        "id": "2W2wFQdl_hyd"
      },
      "outputs": [],
      "source": [
        "# compile the model\n",
        "model.compile(optimizer='adam', loss='mse', metrics=['mae'])"
      ]
    },
    {
      "cell_type": "code",
      "execution_count": 28,
      "metadata": {
        "colab": {
          "base_uri": "https://localhost:8080/"
        },
        "id": "DETNQrGt_pMS",
        "outputId": "a04e63de-564c-488d-c40a-8c30142fa4bd"
      },
      "outputs": [
        {
          "output_type": "stream",
          "name": "stdout",
          "text": [
            "Epoch 1/250\n",
            "24/24 - 9s - loss: 0.0337 - mae: 0.1243 - val_loss: 0.0068 - val_mae: 0.0512 - 9s/epoch - 358ms/step\n",
            "Epoch 2/250\n",
            "24/24 - 0s - loss: 0.0045 - mae: 0.0418 - val_loss: 0.0047 - val_mae: 0.0371 - 318ms/epoch - 13ms/step\n",
            "Epoch 3/250\n",
            "24/24 - 0s - loss: 0.0031 - mae: 0.0341 - val_loss: 0.0044 - val_mae: 0.0307 - 314ms/epoch - 13ms/step\n",
            "Epoch 4/250\n",
            "24/24 - 0s - loss: 0.0028 - mae: 0.0307 - val_loss: 0.0050 - val_mae: 0.0470 - 315ms/epoch - 13ms/step\n",
            "Epoch 5/250\n",
            "24/24 - 0s - loss: 0.0042 - mae: 0.0436 - val_loss: 0.0045 - val_mae: 0.0446 - 363ms/epoch - 15ms/step\n",
            "Epoch 6/250\n",
            "24/24 - 0s - loss: 0.0029 - mae: 0.0352 - val_loss: 0.0034 - val_mae: 0.0346 - 350ms/epoch - 15ms/step\n",
            "Epoch 7/250\n",
            "24/24 - 0s - loss: 0.0021 - mae: 0.0248 - val_loss: 0.0032 - val_mae: 0.0230 - 379ms/epoch - 16ms/step\n",
            "Epoch 8/250\n",
            "24/24 - 0s - loss: 0.0019 - mae: 0.0205 - val_loss: 0.0028 - val_mae: 0.0226 - 350ms/epoch - 15ms/step\n",
            "Epoch 9/250\n",
            "24/24 - 0s - loss: 0.0017 - mae: 0.0198 - val_loss: 0.0029 - val_mae: 0.0268 - 380ms/epoch - 16ms/step\n",
            "Epoch 10/250\n",
            "24/24 - 0s - loss: 0.0016 - mae: 0.0196 - val_loss: 0.0022 - val_mae: 0.0215 - 352ms/epoch - 15ms/step\n",
            "Epoch 11/250\n",
            "24/24 - 0s - loss: 0.0014 - mae: 0.0183 - val_loss: 0.0024 - val_mae: 0.0252 - 394ms/epoch - 16ms/step\n",
            "Epoch 12/250\n",
            "24/24 - 0s - loss: 0.0015 - mae: 0.0185 - val_loss: 0.0017 - val_mae: 0.0225 - 376ms/epoch - 16ms/step\n",
            "Epoch 13/250\n",
            "24/24 - 0s - loss: 0.0018 - mae: 0.0242 - val_loss: 0.0028 - val_mae: 0.0284 - 358ms/epoch - 15ms/step\n",
            "Epoch 14/250\n",
            "24/24 - 0s - loss: 0.0016 - mae: 0.0199 - val_loss: 0.0024 - val_mae: 0.0274 - 359ms/epoch - 15ms/step\n",
            "Epoch 15/250\n",
            "24/24 - 0s - loss: 0.0017 - mae: 0.0211 - val_loss: 0.0017 - val_mae: 0.0188 - 348ms/epoch - 14ms/step\n",
            "Epoch 16/250\n",
            "24/24 - 0s - loss: 0.0015 - mae: 0.0191 - val_loss: 0.0014 - val_mae: 0.0211 - 318ms/epoch - 13ms/step\n",
            "Epoch 17/250\n",
            "24/24 - 0s - loss: 0.0014 - mae: 0.0178 - val_loss: 0.0014 - val_mae: 0.0211 - 350ms/epoch - 15ms/step\n",
            "Epoch 18/250\n",
            "24/24 - 0s - loss: 0.0014 - mae: 0.0180 - val_loss: 0.0016 - val_mae: 0.0265 - 314ms/epoch - 13ms/step\n",
            "Epoch 19/250\n",
            "24/24 - 0s - loss: 0.0016 - mae: 0.0213 - val_loss: 0.0019 - val_mae: 0.0254 - 316ms/epoch - 13ms/step\n",
            "Epoch 20/250\n",
            "24/24 - 0s - loss: 0.0016 - mae: 0.0227 - val_loss: 0.0016 - val_mae: 0.0202 - 321ms/epoch - 13ms/step\n",
            "Epoch 21/250\n",
            "24/24 - 0s - loss: 0.0015 - mae: 0.0198 - val_loss: 0.0013 - val_mae: 0.0205 - 318ms/epoch - 13ms/step\n",
            "Epoch 22/250\n",
            "24/24 - 0s - loss: 0.0014 - mae: 0.0183 - val_loss: 0.0012 - val_mae: 0.0189 - 316ms/epoch - 13ms/step\n",
            "Epoch 23/250\n",
            "24/24 - 0s - loss: 0.0013 - mae: 0.0156 - val_loss: 0.0011 - val_mae: 0.0170 - 355ms/epoch - 15ms/step\n",
            "Epoch 24/250\n",
            "24/24 - 0s - loss: 0.0013 - mae: 0.0173 - val_loss: 0.0013 - val_mae: 0.0200 - 325ms/epoch - 14ms/step\n",
            "Epoch 25/250\n",
            "24/24 - 0s - loss: 0.0013 - mae: 0.0153 - val_loss: 0.0012 - val_mae: 0.0214 - 345ms/epoch - 14ms/step\n",
            "Epoch 26/250\n",
            "24/24 - 0s - loss: 0.0012 - mae: 0.0153 - val_loss: 0.0010 - val_mae: 0.0198 - 350ms/epoch - 15ms/step\n",
            "Epoch 27/250\n",
            "24/24 - 0s - loss: 0.0017 - mae: 0.0237 - val_loss: 0.0014 - val_mae: 0.0258 - 316ms/epoch - 13ms/step\n",
            "Epoch 28/250\n",
            "24/24 - 0s - loss: 0.0015 - mae: 0.0207 - val_loss: 0.0014 - val_mae: 0.0239 - 318ms/epoch - 13ms/step\n",
            "Epoch 29/250\n",
            "24/24 - 0s - loss: 0.0014 - mae: 0.0200 - val_loss: 7.2614e-04 - val_mae: 0.0152 - 319ms/epoch - 13ms/step\n",
            "Epoch 30/250\n",
            "24/24 - 0s - loss: 0.0015 - mae: 0.0196 - val_loss: 9.2540e-04 - val_mae: 0.0194 - 313ms/epoch - 13ms/step\n",
            "Epoch 31/250\n",
            "24/24 - 0s - loss: 0.0013 - mae: 0.0171 - val_loss: 9.3537e-04 - val_mae: 0.0198 - 316ms/epoch - 13ms/step\n",
            "Epoch 32/250\n",
            "24/24 - 0s - loss: 0.0013 - mae: 0.0182 - val_loss: 0.0012 - val_mae: 0.0239 - 348ms/epoch - 14ms/step\n",
            "Epoch 33/250\n",
            "24/24 - 0s - loss: 0.0014 - mae: 0.0190 - val_loss: 0.0011 - val_mae: 0.0224 - 346ms/epoch - 14ms/step\n",
            "Epoch 34/250\n",
            "24/24 - 0s - loss: 0.0016 - mae: 0.0207 - val_loss: 0.0011 - val_mae: 0.0248 - 314ms/epoch - 13ms/step\n",
            "Epoch 35/250\n",
            "24/24 - 0s - loss: 0.0014 - mae: 0.0183 - val_loss: 9.5991e-04 - val_mae: 0.0165 - 325ms/epoch - 14ms/step\n",
            "Epoch 36/250\n",
            "24/24 - 0s - loss: 0.0012 - mae: 0.0144 - val_loss: 0.0014 - val_mae: 0.0250 - 352ms/epoch - 15ms/step\n",
            "Epoch 37/250\n",
            "24/24 - 0s - loss: 0.0014 - mae: 0.0201 - val_loss: 8.8807e-04 - val_mae: 0.0193 - 350ms/epoch - 15ms/step\n",
            "Epoch 38/250\n",
            "24/24 - 0s - loss: 0.0014 - mae: 0.0191 - val_loss: 7.0757e-04 - val_mae: 0.0173 - 319ms/epoch - 13ms/step\n",
            "Epoch 39/250\n",
            "24/24 - 0s - loss: 0.0016 - mae: 0.0203 - val_loss: 8.4176e-04 - val_mae: 0.0201 - 315ms/epoch - 13ms/step\n",
            "Epoch 40/250\n",
            "24/24 - 0s - loss: 0.0012 - mae: 0.0159 - val_loss: 5.9758e-04 - val_mae: 0.0155 - 315ms/epoch - 13ms/step\n",
            "Epoch 41/250\n",
            "24/24 - 0s - loss: 0.0013 - mae: 0.0171 - val_loss: 5.3106e-04 - val_mae: 0.0140 - 323ms/epoch - 13ms/step\n",
            "Epoch 42/250\n",
            "24/24 - 0s - loss: 0.0014 - mae: 0.0183 - val_loss: 6.5145e-04 - val_mae: 0.0180 - 317ms/epoch - 13ms/step\n",
            "Epoch 43/250\n",
            "24/24 - 0s - loss: 0.0014 - mae: 0.0184 - val_loss: 4.8084e-04 - val_mae: 0.0143 - 325ms/epoch - 14ms/step\n",
            "Epoch 44/250\n",
            "24/24 - 0s - loss: 0.0013 - mae: 0.0171 - val_loss: 4.8463e-04 - val_mae: 0.0147 - 388ms/epoch - 16ms/step\n",
            "Epoch 45/250\n",
            "24/24 - 0s - loss: 0.0012 - mae: 0.0155 - val_loss: 7.7570e-04 - val_mae: 0.0195 - 352ms/epoch - 15ms/step\n",
            "Epoch 46/250\n",
            "24/24 - 0s - loss: 0.0012 - mae: 0.0164 - val_loss: 4.4132e-04 - val_mae: 0.0139 - 353ms/epoch - 15ms/step\n",
            "Epoch 47/250\n",
            "24/24 - 0s - loss: 0.0012 - mae: 0.0163 - val_loss: 5.0642e-04 - val_mae: 0.0153 - 350ms/epoch - 15ms/step\n",
            "Epoch 48/250\n",
            "24/24 - 0s - loss: 0.0012 - mae: 0.0158 - val_loss: 4.2091e-04 - val_mae: 0.0134 - 377ms/epoch - 16ms/step\n",
            "Epoch 49/250\n",
            "24/24 - 0s - loss: 0.0013 - mae: 0.0162 - val_loss: 5.3443e-04 - val_mae: 0.0158 - 349ms/epoch - 15ms/step\n",
            "Epoch 50/250\n",
            "24/24 - 0s - loss: 0.0012 - mae: 0.0166 - val_loss: 4.3192e-04 - val_mae: 0.0137 - 362ms/epoch - 15ms/step\n",
            "Epoch 51/250\n",
            "24/24 - 0s - loss: 0.0013 - mae: 0.0167 - val_loss: 6.7715e-04 - val_mae: 0.0204 - 381ms/epoch - 16ms/step\n",
            "Epoch 52/250\n",
            "24/24 - 0s - loss: 0.0014 - mae: 0.0192 - val_loss: 0.0013 - val_mae: 0.0309 - 386ms/epoch - 16ms/step\n",
            "Epoch 53/250\n",
            "24/24 - 0s - loss: 0.0014 - mae: 0.0194 - val_loss: 0.0013 - val_mae: 0.0315 - 320ms/epoch - 13ms/step\n",
            "Epoch 54/250\n",
            "24/24 - 0s - loss: 0.0014 - mae: 0.0185 - val_loss: 7.4256e-04 - val_mae: 0.0225 - 315ms/epoch - 13ms/step\n",
            "Epoch 55/250\n",
            "24/24 - 0s - loss: 0.0013 - mae: 0.0165 - val_loss: 3.8391e-04 - val_mae: 0.0133 - 315ms/epoch - 13ms/step\n",
            "Epoch 56/250\n",
            "24/24 - 0s - loss: 0.0013 - mae: 0.0168 - val_loss: 3.4692e-04 - val_mae: 0.0135 - 323ms/epoch - 13ms/step\n",
            "Epoch 57/250\n",
            "24/24 - 0s - loss: 0.0012 - mae: 0.0168 - val_loss: 3.7638e-04 - val_mae: 0.0141 - 317ms/epoch - 13ms/step\n",
            "Epoch 58/250\n",
            "24/24 - 0s - loss: 0.0011 - mae: 0.0133 - val_loss: 6.9733e-04 - val_mae: 0.0205 - 351ms/epoch - 15ms/step\n",
            "Epoch 59/250\n",
            "24/24 - 0s - loss: 0.0012 - mae: 0.0150 - val_loss: 3.5642e-04 - val_mae: 0.0141 - 357ms/epoch - 15ms/step\n",
            "Epoch 60/250\n",
            "24/24 - 0s - loss: 0.0013 - mae: 0.0181 - val_loss: 4.0368e-04 - val_mae: 0.0147 - 348ms/epoch - 14ms/step\n",
            "Epoch 61/250\n",
            "24/24 - 0s - loss: 0.0011 - mae: 0.0132 - val_loss: 3.4282e-04 - val_mae: 0.0130 - 326ms/epoch - 14ms/step\n",
            "Epoch 62/250\n",
            "24/24 - 0s - loss: 0.0012 - mae: 0.0147 - val_loss: 3.4826e-04 - val_mae: 0.0141 - 352ms/epoch - 15ms/step\n",
            "Epoch 63/250\n",
            "24/24 - 0s - loss: 0.0012 - mae: 0.0144 - val_loss: 7.0234e-04 - val_mae: 0.0225 - 316ms/epoch - 13ms/step\n",
            "Epoch 64/250\n",
            "24/24 - 0s - loss: 0.0012 - mae: 0.0165 - val_loss: 8.3590e-04 - val_mae: 0.0244 - 319ms/epoch - 13ms/step\n",
            "Epoch 65/250\n",
            "24/24 - 0s - loss: 0.0012 - mae: 0.0155 - val_loss: 2.9059e-04 - val_mae: 0.0127 - 319ms/epoch - 13ms/step\n",
            "Epoch 66/250\n",
            "24/24 - 0s - loss: 0.0011 - mae: 0.0133 - val_loss: 4.8743e-04 - val_mae: 0.0169 - 318ms/epoch - 13ms/step\n",
            "Epoch 67/250\n",
            "24/24 - 0s - loss: 0.0014 - mae: 0.0190 - val_loss: 3.2302e-04 - val_mae: 0.0131 - 348ms/epoch - 15ms/step\n",
            "Epoch 68/250\n",
            "24/24 - 0s - loss: 0.0012 - mae: 0.0150 - val_loss: 3.4768e-04 - val_mae: 0.0133 - 337ms/epoch - 14ms/step\n",
            "Epoch 69/250\n",
            "24/24 - 0s - loss: 0.0011 - mae: 0.0147 - val_loss: 2.8458e-04 - val_mae: 0.0121 - 316ms/epoch - 13ms/step\n",
            "Epoch 70/250\n",
            "24/24 - 0s - loss: 0.0011 - mae: 0.0133 - val_loss: 2.8371e-04 - val_mae: 0.0127 - 318ms/epoch - 13ms/step\n",
            "Epoch 71/250\n",
            "24/24 - 0s - loss: 0.0012 - mae: 0.0162 - val_loss: 2.9294e-04 - val_mae: 0.0133 - 317ms/epoch - 13ms/step\n",
            "Epoch 72/250\n",
            "24/24 - 0s - loss: 0.0013 - mae: 0.0175 - val_loss: 5.7711e-04 - val_mae: 0.0190 - 361ms/epoch - 15ms/step\n",
            "Epoch 73/250\n",
            "24/24 - 0s - loss: 0.0013 - mae: 0.0173 - val_loss: 3.6606e-04 - val_mae: 0.0145 - 323ms/epoch - 13ms/step\n",
            "Epoch 74/250\n",
            "24/24 - 0s - loss: 0.0012 - mae: 0.0151 - val_loss: 2.2834e-04 - val_mae: 0.0113 - 317ms/epoch - 13ms/step\n",
            "Epoch 75/250\n",
            "24/24 - 0s - loss: 0.0012 - mae: 0.0165 - val_loss: 2.3154e-04 - val_mae: 0.0114 - 351ms/epoch - 15ms/step\n",
            "Epoch 76/250\n",
            "24/24 - 0s - loss: 0.0013 - mae: 0.0166 - val_loss: 3.9512e-04 - val_mae: 0.0151 - 320ms/epoch - 13ms/step\n",
            "Epoch 77/250\n",
            "24/24 - 0s - loss: 0.0012 - mae: 0.0162 - val_loss: 3.4648e-04 - val_mae: 0.0155 - 319ms/epoch - 13ms/step\n",
            "Epoch 78/250\n",
            "24/24 - 0s - loss: 0.0011 - mae: 0.0135 - val_loss: 4.1392e-04 - val_mae: 0.0146 - 320ms/epoch - 13ms/step\n",
            "Epoch 79/250\n",
            "24/24 - 0s - loss: 0.0011 - mae: 0.0144 - val_loss: 2.8563e-04 - val_mae: 0.0129 - 320ms/epoch - 13ms/step\n",
            "Epoch 80/250\n",
            "24/24 - 0s - loss: 0.0012 - mae: 0.0153 - val_loss: 2.9097e-04 - val_mae: 0.0135 - 319ms/epoch - 13ms/step\n",
            "Epoch 81/250\n",
            "24/24 - 0s - loss: 0.0011 - mae: 0.0129 - val_loss: 6.1230e-04 - val_mae: 0.0197 - 318ms/epoch - 13ms/step\n",
            "Epoch 82/250\n",
            "24/24 - 0s - loss: 0.0014 - mae: 0.0179 - val_loss: 6.0346e-04 - val_mae: 0.0176 - 357ms/epoch - 15ms/step\n",
            "Epoch 83/250\n",
            "24/24 - 0s - loss: 0.0011 - mae: 0.0163 - val_loss: 3.0944e-04 - val_mae: 0.0136 - 386ms/epoch - 16ms/step\n",
            "Epoch 84/250\n",
            "24/24 - 0s - loss: 0.0011 - mae: 0.0118 - val_loss: 4.4407e-04 - val_mae: 0.0160 - 379ms/epoch - 16ms/step\n",
            "Epoch 85/250\n",
            "24/24 - 0s - loss: 0.0012 - mae: 0.0162 - val_loss: 2.9386e-04 - val_mae: 0.0132 - 354ms/epoch - 15ms/step\n",
            "Epoch 86/250\n",
            "24/24 - 0s - loss: 0.0011 - mae: 0.0147 - val_loss: 2.2166e-04 - val_mae: 0.0111 - 350ms/epoch - 15ms/step\n",
            "Epoch 87/250\n",
            "24/24 - 0s - loss: 0.0012 - mae: 0.0153 - val_loss: 4.0499e-04 - val_mae: 0.0164 - 378ms/epoch - 16ms/step\n",
            "Epoch 88/250\n",
            "24/24 - 0s - loss: 0.0012 - mae: 0.0152 - val_loss: 3.0430e-04 - val_mae: 0.0131 - 356ms/epoch - 15ms/step\n",
            "Epoch 89/250\n",
            "24/24 - 0s - loss: 0.0014 - mae: 0.0193 - val_loss: 3.3241e-04 - val_mae: 0.0137 - 353ms/epoch - 15ms/step\n",
            "Epoch 90/250\n",
            "24/24 - 0s - loss: 0.0012 - mae: 0.0158 - val_loss: 2.2147e-04 - val_mae: 0.0115 - 392ms/epoch - 16ms/step\n",
            "Epoch 91/250\n",
            "24/24 - 0s - loss: 0.0011 - mae: 0.0140 - val_loss: 5.1528e-04 - val_mae: 0.0192 - 337ms/epoch - 14ms/step\n",
            "Epoch 92/250\n",
            "24/24 - 0s - loss: 0.0012 - mae: 0.0163 - val_loss: 5.1141e-04 - val_mae: 0.0187 - 324ms/epoch - 14ms/step\n",
            "Epoch 93/250\n",
            "24/24 - 0s - loss: 0.0011 - mae: 0.0144 - val_loss: 8.3952e-04 - val_mae: 0.0226 - 317ms/epoch - 13ms/step\n",
            "Epoch 94/250\n",
            "24/24 - 0s - loss: 0.0013 - mae: 0.0188 - val_loss: 3.1030e-04 - val_mae: 0.0129 - 316ms/epoch - 13ms/step\n",
            "Epoch 95/250\n",
            "24/24 - 0s - loss: 0.0011 - mae: 0.0145 - val_loss: 3.1313e-04 - val_mae: 0.0133 - 355ms/epoch - 15ms/step\n",
            "Epoch 96/250\n",
            "24/24 - 0s - loss: 0.0012 - mae: 0.0175 - val_loss: 4.3224e-04 - val_mae: 0.0161 - 315ms/epoch - 13ms/step\n",
            "Epoch 97/250\n",
            "24/24 - 0s - loss: 0.0012 - mae: 0.0159 - val_loss: 2.8905e-04 - val_mae: 0.0125 - 323ms/epoch - 13ms/step\n",
            "Epoch 98/250\n",
            "24/24 - 0s - loss: 0.0012 - mae: 0.0150 - val_loss: 2.7595e-04 - val_mae: 0.0124 - 320ms/epoch - 13ms/step\n",
            "Epoch 99/250\n",
            "24/24 - 0s - loss: 0.0012 - mae: 0.0159 - val_loss: 4.6943e-04 - val_mae: 0.0168 - 320ms/epoch - 13ms/step\n",
            "Epoch 100/250\n",
            "24/24 - 0s - loss: 0.0012 - mae: 0.0164 - val_loss: 3.1614e-04 - val_mae: 0.0133 - 315ms/epoch - 13ms/step\n",
            "Epoch 101/250\n",
            "24/24 - 0s - loss: 0.0011 - mae: 0.0133 - val_loss: 4.5994e-04 - val_mae: 0.0182 - 319ms/epoch - 13ms/step\n",
            "Epoch 102/250\n",
            "24/24 - 0s - loss: 0.0013 - mae: 0.0171 - val_loss: 0.0010 - val_mae: 0.0283 - 352ms/epoch - 15ms/step\n",
            "Epoch 103/250\n",
            "24/24 - 0s - loss: 0.0015 - mae: 0.0199 - val_loss: 3.8630e-04 - val_mae: 0.0154 - 320ms/epoch - 13ms/step\n",
            "Epoch 104/250\n",
            "24/24 - 0s - loss: 0.0012 - mae: 0.0153 - val_loss: 2.6513e-04 - val_mae: 0.0117 - 324ms/epoch - 13ms/step\n",
            "Epoch 105/250\n",
            "24/24 - 0s - loss: 0.0012 - mae: 0.0164 - val_loss: 2.9596e-04 - val_mae: 0.0135 - 316ms/epoch - 13ms/step\n",
            "Epoch 106/250\n",
            "24/24 - 0s - loss: 0.0011 - mae: 0.0161 - val_loss: 2.4371e-04 - val_mae: 0.0113 - 353ms/epoch - 15ms/step\n",
            "Epoch 107/250\n",
            "24/24 - 0s - loss: 0.0012 - mae: 0.0159 - val_loss: 2.2125e-04 - val_mae: 0.0111 - 351ms/epoch - 15ms/step\n",
            "Epoch 108/250\n",
            "24/24 - 0s - loss: 0.0012 - mae: 0.0143 - val_loss: 5.8945e-04 - val_mae: 0.0203 - 318ms/epoch - 13ms/step\n",
            "Epoch 109/250\n",
            "24/24 - 0s - loss: 0.0011 - mae: 0.0142 - val_loss: 2.3776e-04 - val_mae: 0.0115 - 318ms/epoch - 13ms/step\n",
            "Epoch 110/250\n",
            "24/24 - 0s - loss: 0.0012 - mae: 0.0159 - val_loss: 2.2524e-04 - val_mae: 0.0109 - 324ms/epoch - 14ms/step\n",
            "Epoch 111/250\n",
            "24/24 - 0s - loss: 0.0012 - mae: 0.0148 - val_loss: 3.5013e-04 - val_mae: 0.0145 - 323ms/epoch - 13ms/step\n",
            "Epoch 112/250\n",
            "24/24 - 0s - loss: 0.0013 - mae: 0.0169 - val_loss: 2.6000e-04 - val_mae: 0.0119 - 349ms/epoch - 15ms/step\n",
            "Epoch 113/250\n",
            "24/24 - 0s - loss: 0.0011 - mae: 0.0139 - val_loss: 3.2594e-04 - val_mae: 0.0140 - 318ms/epoch - 13ms/step\n",
            "Epoch 114/250\n",
            "24/24 - 0s - loss: 0.0011 - mae: 0.0147 - val_loss: 2.3903e-04 - val_mae: 0.0115 - 316ms/epoch - 13ms/step\n",
            "Epoch 115/250\n",
            "24/24 - 0s - loss: 0.0011 - mae: 0.0135 - val_loss: 2.8092e-04 - val_mae: 0.0128 - 318ms/epoch - 13ms/step\n",
            "Epoch 116/250\n",
            "24/24 - 0s - loss: 0.0012 - mae: 0.0161 - val_loss: 3.6058e-04 - val_mae: 0.0145 - 319ms/epoch - 13ms/step\n",
            "Epoch 117/250\n",
            "24/24 - 0s - loss: 0.0014 - mae: 0.0190 - val_loss: 2.9163e-04 - val_mae: 0.0125 - 325ms/epoch - 14ms/step\n",
            "Epoch 118/250\n",
            "24/24 - 0s - loss: 0.0011 - mae: 0.0133 - val_loss: 5.0560e-04 - val_mae: 0.0188 - 362ms/epoch - 15ms/step\n",
            "Epoch 119/250\n",
            "24/24 - 0s - loss: 0.0011 - mae: 0.0144 - val_loss: 4.6875e-04 - val_mae: 0.0152 - 321ms/epoch - 13ms/step\n",
            "Epoch 120/250\n",
            "24/24 - 0s - loss: 0.0013 - mae: 0.0175 - val_loss: 3.0217e-04 - val_mae: 0.0129 - 327ms/epoch - 14ms/step\n",
            "Epoch 121/250\n",
            "24/24 - 0s - loss: 0.0010 - mae: 0.0117 - val_loss: 3.1730e-04 - val_mae: 0.0134 - 369ms/epoch - 15ms/step\n",
            "Epoch 122/250\n",
            "24/24 - 0s - loss: 0.0011 - mae: 0.0156 - val_loss: 2.8600e-04 - val_mae: 0.0121 - 382ms/epoch - 16ms/step\n",
            "Epoch 123/250\n",
            "24/24 - 0s - loss: 0.0011 - mae: 0.0131 - val_loss: 3.7330e-04 - val_mae: 0.0146 - 357ms/epoch - 15ms/step\n",
            "Epoch 124/250\n",
            "24/24 - 0s - loss: 0.0012 - mae: 0.0155 - val_loss: 5.3414e-04 - val_mae: 0.0187 - 394ms/epoch - 16ms/step\n",
            "Epoch 125/250\n",
            "24/24 - 0s - loss: 0.0012 - mae: 0.0162 - val_loss: 4.3722e-04 - val_mae: 0.0165 - 390ms/epoch - 16ms/step\n",
            "Epoch 126/250\n",
            "24/24 - 0s - loss: 0.0011 - mae: 0.0141 - val_loss: 5.9428e-04 - val_mae: 0.0205 - 387ms/epoch - 16ms/step\n",
            "Epoch 127/250\n",
            "24/24 - 0s - loss: 0.0011 - mae: 0.0154 - val_loss: 3.3544e-04 - val_mae: 0.0128 - 363ms/epoch - 15ms/step\n",
            "Epoch 128/250\n",
            "24/24 - 0s - loss: 0.0012 - mae: 0.0170 - val_loss: 0.0015 - val_mae: 0.0300 - 390ms/epoch - 16ms/step\n",
            "Epoch 129/250\n",
            "24/24 - 0s - loss: 0.0016 - mae: 0.0233 - val_loss: 5.6132e-04 - val_mae: 0.0178 - 385ms/epoch - 16ms/step\n",
            "Epoch 130/250\n",
            "24/24 - 0s - loss: 0.0011 - mae: 0.0142 - val_loss: 3.6433e-04 - val_mae: 0.0143 - 321ms/epoch - 13ms/step\n",
            "Epoch 131/250\n",
            "24/24 - 0s - loss: 0.0010 - mae: 0.0139 - val_loss: 3.8013e-04 - val_mae: 0.0144 - 351ms/epoch - 15ms/step\n",
            "Epoch 132/250\n",
            "24/24 - 0s - loss: 0.0010 - mae: 0.0123 - val_loss: 7.9630e-04 - val_mae: 0.0206 - 356ms/epoch - 15ms/step\n",
            "Epoch 133/250\n",
            "24/24 - 0s - loss: 0.0013 - mae: 0.0184 - val_loss: 0.0010 - val_mae: 0.0233 - 324ms/epoch - 14ms/step\n",
            "Epoch 134/250\n",
            "24/24 - 0s - loss: 0.0013 - mae: 0.0183 - val_loss: 4.9672e-04 - val_mae: 0.0171 - 320ms/epoch - 13ms/step\n",
            "Epoch 135/250\n",
            "24/24 - 0s - loss: 0.0011 - mae: 0.0148 - val_loss: 3.4974e-04 - val_mae: 0.0141 - 325ms/epoch - 14ms/step\n",
            "Epoch 136/250\n",
            "24/24 - 0s - loss: 0.0011 - mae: 0.0145 - val_loss: 3.0997e-04 - val_mae: 0.0122 - 321ms/epoch - 13ms/step\n",
            "Epoch 137/250\n",
            "24/24 - 0s - loss: 0.0011 - mae: 0.0136 - val_loss: 3.2311e-04 - val_mae: 0.0128 - 318ms/epoch - 13ms/step\n",
            "Epoch 138/250\n",
            "24/24 - 0s - loss: 0.0010 - mae: 0.0134 - val_loss: 7.0712e-04 - val_mae: 0.0203 - 324ms/epoch - 13ms/step\n",
            "Epoch 139/250\n",
            "24/24 - 0s - loss: 0.0011 - mae: 0.0159 - val_loss: 3.7422e-04 - val_mae: 0.0139 - 366ms/epoch - 15ms/step\n",
            "Epoch 140/250\n",
            "24/24 - 0s - loss: 0.0011 - mae: 0.0146 - val_loss: 3.2718e-04 - val_mae: 0.0127 - 327ms/epoch - 14ms/step\n",
            "Epoch 141/250\n",
            "24/24 - 0s - loss: 0.0011 - mae: 0.0142 - val_loss: 3.1982e-04 - val_mae: 0.0125 - 321ms/epoch - 13ms/step\n",
            "Epoch 142/250\n",
            "24/24 - 0s - loss: 0.0010 - mae: 0.0140 - val_loss: 4.1658e-04 - val_mae: 0.0149 - 362ms/epoch - 15ms/step\n",
            "Epoch 143/250\n",
            "24/24 - 0s - loss: 0.0012 - mae: 0.0163 - val_loss: 0.0011 - val_mae: 0.0285 - 333ms/epoch - 14ms/step\n",
            "Epoch 144/250\n",
            "24/24 - 0s - loss: 0.0011 - mae: 0.0168 - val_loss: 6.9183e-04 - val_mae: 0.0195 - 320ms/epoch - 13ms/step\n",
            "Epoch 145/250\n",
            "24/24 - 0s - loss: 0.0011 - mae: 0.0150 - val_loss: 3.3837e-04 - val_mae: 0.0130 - 325ms/epoch - 14ms/step\n",
            "Epoch 146/250\n",
            "24/24 - 0s - loss: 0.0012 - mae: 0.0152 - val_loss: 3.4217e-04 - val_mae: 0.0130 - 322ms/epoch - 13ms/step\n",
            "Epoch 147/250\n",
            "24/24 - 0s - loss: 0.0011 - mae: 0.0147 - val_loss: 4.0277e-04 - val_mae: 0.0143 - 353ms/epoch - 15ms/step\n",
            "Epoch 148/250\n",
            "24/24 - 0s - loss: 0.0012 - mae: 0.0155 - val_loss: 4.2029e-04 - val_mae: 0.0155 - 357ms/epoch - 15ms/step\n",
            "Epoch 149/250\n",
            "24/24 - 0s - loss: 0.0011 - mae: 0.0135 - val_loss: 6.5745e-04 - val_mae: 0.0213 - 323ms/epoch - 13ms/step\n",
            "Epoch 150/250\n",
            "24/24 - 0s - loss: 0.0011 - mae: 0.0152 - val_loss: 6.0316e-04 - val_mae: 0.0204 - 322ms/epoch - 13ms/step\n",
            "Epoch 151/250\n",
            "24/24 - 0s - loss: 0.0010 - mae: 0.0132 - val_loss: 3.9787e-04 - val_mae: 0.0133 - 358ms/epoch - 15ms/step\n",
            "Epoch 152/250\n",
            "24/24 - 0s - loss: 0.0011 - mae: 0.0145 - val_loss: 4.9545e-04 - val_mae: 0.0148 - 319ms/epoch - 13ms/step\n",
            "Epoch 153/250\n",
            "24/24 - 0s - loss: 0.0011 - mae: 0.0157 - val_loss: 3.8238e-04 - val_mae: 0.0134 - 320ms/epoch - 13ms/step\n",
            "Epoch 154/250\n",
            "24/24 - 0s - loss: 9.9994e-04 - mae: 0.0125 - val_loss: 5.6914e-04 - val_mae: 0.0165 - 327ms/epoch - 14ms/step\n",
            "Epoch 155/250\n",
            "24/24 - 0s - loss: 0.0011 - mae: 0.0170 - val_loss: 5.5362e-04 - val_mae: 0.0183 - 322ms/epoch - 13ms/step\n",
            "Epoch 156/250\n",
            "24/24 - 0s - loss: 0.0011 - mae: 0.0141 - val_loss: 3.9295e-04 - val_mae: 0.0139 - 359ms/epoch - 15ms/step\n",
            "Epoch 157/250\n",
            "24/24 - 0s - loss: 0.0011 - mae: 0.0169 - val_loss: 6.2251e-04 - val_mae: 0.0182 - 323ms/epoch - 13ms/step\n",
            "Epoch 158/250\n",
            "24/24 - 0s - loss: 0.0021 - mae: 0.0181 - val_loss: 6.9867e-04 - val_mae: 0.0180 - 321ms/epoch - 13ms/step\n",
            "Epoch 159/250\n",
            "24/24 - 0s - loss: 0.0017 - mae: 0.0240 - val_loss: 6.4777e-04 - val_mae: 0.0206 - 372ms/epoch - 15ms/step\n",
            "Epoch 160/250\n",
            "24/24 - 0s - loss: 0.0018 - mae: 0.0242 - val_loss: 3.5427e-04 - val_mae: 0.0130 - 356ms/epoch - 15ms/step\n",
            "Epoch 161/250\n",
            "24/24 - 0s - loss: 0.0011 - mae: 0.0140 - val_loss: 5.7914e-04 - val_mae: 0.0187 - 350ms/epoch - 15ms/step\n",
            "Epoch 162/250\n",
            "24/24 - 0s - loss: 0.0012 - mae: 0.0162 - val_loss: 0.0012 - val_mae: 0.0268 - 370ms/epoch - 15ms/step\n",
            "Epoch 163/250\n",
            "24/24 - 0s - loss: 0.0014 - mae: 0.0188 - val_loss: 5.2686e-04 - val_mae: 0.0172 - 360ms/epoch - 15ms/step\n",
            "Epoch 164/250\n",
            "24/24 - 0s - loss: 0.0012 - mae: 0.0150 - val_loss: 4.6037e-04 - val_mae: 0.0149 - 352ms/epoch - 15ms/step\n",
            "Epoch 165/250\n",
            "24/24 - 0s - loss: 0.0011 - mae: 0.0134 - val_loss: 5.6096e-04 - val_mae: 0.0174 - 363ms/epoch - 15ms/step\n",
            "Epoch 166/250\n",
            "24/24 - 0s - loss: 0.0013 - mae: 0.0172 - val_loss: 3.2801e-04 - val_mae: 0.0122 - 383ms/epoch - 16ms/step\n",
            "Epoch 167/250\n",
            "24/24 - 0s - loss: 0.0010 - mae: 0.0125 - val_loss: 4.6745e-04 - val_mae: 0.0150 - 416ms/epoch - 17ms/step\n",
            "Epoch 168/250\n",
            "24/24 - 0s - loss: 0.0015 - mae: 0.0229 - val_loss: 4.1218e-04 - val_mae: 0.0151 - 333ms/epoch - 14ms/step\n",
            "Epoch 169/250\n",
            "24/24 - 0s - loss: 0.0012 - mae: 0.0163 - val_loss: 4.6206e-04 - val_mae: 0.0166 - 322ms/epoch - 13ms/step\n",
            "Epoch 170/250\n",
            "24/24 - 0s - loss: 0.0011 - mae: 0.0135 - val_loss: 5.7816e-04 - val_mae: 0.0173 - 322ms/epoch - 13ms/step\n",
            "Epoch 171/250\n",
            "24/24 - 0s - loss: 0.0011 - mae: 0.0149 - val_loss: 6.8941e-04 - val_mae: 0.0185 - 325ms/epoch - 14ms/step\n",
            "Epoch 172/250\n",
            "24/24 - 0s - loss: 0.0011 - mae: 0.0156 - val_loss: 3.0619e-04 - val_mae: 0.0120 - 328ms/epoch - 14ms/step\n",
            "Epoch 173/250\n",
            "24/24 - 0s - loss: 0.0011 - mae: 0.0142 - val_loss: 4.0098e-04 - val_mae: 0.0146 - 405ms/epoch - 17ms/step\n",
            "Epoch 174/250\n",
            "24/24 - 0s - loss: 0.0011 - mae: 0.0138 - val_loss: 4.1060e-04 - val_mae: 0.0153 - 489ms/epoch - 20ms/step\n",
            "Epoch 175/250\n",
            "24/24 - 0s - loss: 0.0012 - mae: 0.0161 - val_loss: 4.9058e-04 - val_mae: 0.0163 - 321ms/epoch - 13ms/step\n",
            "Epoch 176/250\n",
            "24/24 - 1s - loss: 0.0013 - mae: 0.0172 - val_loss: 4.3877e-04 - val_mae: 0.0157 - 502ms/epoch - 21ms/step\n",
            "Epoch 177/250\n",
            "24/24 - 0s - loss: 0.0011 - mae: 0.0142 - val_loss: 3.5065e-04 - val_mae: 0.0131 - 380ms/epoch - 16ms/step\n",
            "Epoch 178/250\n",
            "24/24 - 0s - loss: 0.0012 - mae: 0.0180 - val_loss: 6.4910e-04 - val_mae: 0.0208 - 354ms/epoch - 15ms/step\n",
            "Epoch 179/250\n",
            "24/24 - 1s - loss: 0.0014 - mae: 0.0198 - val_loss: 3.2215e-04 - val_mae: 0.0132 - 663ms/epoch - 28ms/step\n",
            "Epoch 180/250\n",
            "24/24 - 0s - loss: 0.0011 - mae: 0.0143 - val_loss: 3.2191e-04 - val_mae: 0.0129 - 359ms/epoch - 15ms/step\n",
            "Epoch 181/250\n",
            "24/24 - 0s - loss: 0.0011 - mae: 0.0143 - val_loss: 4.3033e-04 - val_mae: 0.0157 - 355ms/epoch - 15ms/step\n",
            "Epoch 182/250\n",
            "24/24 - 0s - loss: 0.0012 - mae: 0.0147 - val_loss: 3.1083e-04 - val_mae: 0.0117 - 321ms/epoch - 13ms/step\n",
            "Epoch 183/250\n",
            "24/24 - 0s - loss: 0.0011 - mae: 0.0133 - val_loss: 4.5520e-04 - val_mae: 0.0154 - 324ms/epoch - 14ms/step\n",
            "Epoch 184/250\n",
            "24/24 - 0s - loss: 0.0011 - mae: 0.0139 - val_loss: 3.3117e-04 - val_mae: 0.0130 - 357ms/epoch - 15ms/step\n",
            "Epoch 185/250\n",
            "24/24 - 0s - loss: 0.0011 - mae: 0.0149 - val_loss: 4.7680e-04 - val_mae: 0.0151 - 324ms/epoch - 13ms/step\n",
            "Epoch 186/250\n",
            "24/24 - 0s - loss: 0.0010 - mae: 0.0120 - val_loss: 3.1707e-04 - val_mae: 0.0120 - 331ms/epoch - 14ms/step\n",
            "Epoch 187/250\n",
            "24/24 - 0s - loss: 0.0011 - mae: 0.0150 - val_loss: 3.2531e-04 - val_mae: 0.0124 - 326ms/epoch - 14ms/step\n",
            "Epoch 188/250\n",
            "24/24 - 0s - loss: 0.0011 - mae: 0.0159 - val_loss: 3.5988e-04 - val_mae: 0.0135 - 326ms/epoch - 14ms/step\n",
            "Epoch 189/250\n",
            "24/24 - 0s - loss: 9.9405e-04 - mae: 0.0125 - val_loss: 5.0198e-04 - val_mae: 0.0155 - 362ms/epoch - 15ms/step\n",
            "Epoch 190/250\n",
            "24/24 - 0s - loss: 0.0011 - mae: 0.0157 - val_loss: 3.3454e-04 - val_mae: 0.0128 - 327ms/epoch - 14ms/step\n",
            "Epoch 191/250\n",
            "24/24 - 0s - loss: 0.0011 - mae: 0.0151 - val_loss: 4.6567e-04 - val_mae: 0.0147 - 329ms/epoch - 14ms/step\n",
            "Epoch 192/250\n",
            "24/24 - 0s - loss: 0.0012 - mae: 0.0154 - val_loss: 5.1302e-04 - val_mae: 0.0175 - 325ms/epoch - 14ms/step\n",
            "Epoch 193/250\n",
            "24/24 - 0s - loss: 0.0011 - mae: 0.0152 - val_loss: 4.2901e-04 - val_mae: 0.0150 - 333ms/epoch - 14ms/step\n",
            "Epoch 194/250\n",
            "24/24 - 0s - loss: 0.0010 - mae: 0.0140 - val_loss: 3.6288e-04 - val_mae: 0.0137 - 324ms/epoch - 14ms/step\n",
            "Epoch 195/250\n",
            "24/24 - 0s - loss: 0.0011 - mae: 0.0150 - val_loss: 3.5575e-04 - val_mae: 0.0133 - 374ms/epoch - 16ms/step\n",
            "Epoch 196/250\n",
            "24/24 - 0s - loss: 0.0010 - mae: 0.0137 - val_loss: 4.3096e-04 - val_mae: 0.0140 - 373ms/epoch - 16ms/step\n",
            "Epoch 197/250\n",
            "24/24 - 0s - loss: 0.0011 - mae: 0.0155 - val_loss: 3.4529e-04 - val_mae: 0.0126 - 355ms/epoch - 15ms/step\n",
            "Epoch 198/250\n",
            "24/24 - 0s - loss: 0.0011 - mae: 0.0138 - val_loss: 3.9675e-04 - val_mae: 0.0143 - 361ms/epoch - 15ms/step\n",
            "Epoch 199/250\n",
            "24/24 - 0s - loss: 0.0010 - mae: 0.0133 - val_loss: 4.8581e-04 - val_mae: 0.0146 - 357ms/epoch - 15ms/step\n",
            "Epoch 200/250\n",
            "24/24 - 0s - loss: 0.0011 - mae: 0.0141 - val_loss: 5.8600e-04 - val_mae: 0.0196 - 355ms/epoch - 15ms/step\n",
            "Epoch 201/250\n",
            "24/24 - 0s - loss: 0.0012 - mae: 0.0178 - val_loss: 3.9718e-04 - val_mae: 0.0139 - 389ms/epoch - 16ms/step\n",
            "Epoch 202/250\n",
            "24/24 - 0s - loss: 0.0012 - mae: 0.0156 - val_loss: 5.0294e-04 - val_mae: 0.0161 - 393ms/epoch - 16ms/step\n",
            "Epoch 203/250\n",
            "24/24 - 0s - loss: 0.0011 - mae: 0.0162 - val_loss: 3.6687e-04 - val_mae: 0.0132 - 366ms/epoch - 15ms/step\n",
            "Epoch 204/250\n",
            "24/24 - 0s - loss: 0.0010 - mae: 0.0131 - val_loss: 4.4795e-04 - val_mae: 0.0151 - 366ms/epoch - 15ms/step\n",
            "Epoch 205/250\n",
            "24/24 - 0s - loss: 0.0011 - mae: 0.0158 - val_loss: 6.0598e-04 - val_mae: 0.0186 - 327ms/epoch - 14ms/step\n",
            "Epoch 206/250\n",
            "24/24 - 0s - loss: 0.0011 - mae: 0.0148 - val_loss: 5.3570e-04 - val_mae: 0.0148 - 355ms/epoch - 15ms/step\n",
            "Epoch 207/250\n",
            "24/24 - 0s - loss: 0.0011 - mae: 0.0168 - val_loss: 4.0829e-04 - val_mae: 0.0137 - 355ms/epoch - 15ms/step\n",
            "Epoch 208/250\n",
            "24/24 - 0s - loss: 0.0010 - mae: 0.0139 - val_loss: 3.6870e-04 - val_mae: 0.0130 - 331ms/epoch - 14ms/step\n",
            "Epoch 209/250\n",
            "24/24 - 0s - loss: 9.6830e-04 - mae: 0.0120 - val_loss: 4.9919e-04 - val_mae: 0.0154 - 328ms/epoch - 14ms/step\n",
            "Epoch 210/250\n",
            "24/24 - 0s - loss: 0.0011 - mae: 0.0149 - val_loss: 3.7576e-04 - val_mae: 0.0125 - 328ms/epoch - 14ms/step\n",
            "Epoch 211/250\n",
            "24/24 - 0s - loss: 0.0010 - mae: 0.0139 - val_loss: 3.8596e-04 - val_mae: 0.0134 - 330ms/epoch - 14ms/step\n",
            "Epoch 212/250\n",
            "24/24 - 0s - loss: 0.0010 - mae: 0.0132 - val_loss: 6.4563e-04 - val_mae: 0.0198 - 326ms/epoch - 14ms/step\n",
            "Epoch 213/250\n",
            "24/24 - 0s - loss: 0.0011 - mae: 0.0153 - val_loss: 3.6654e-04 - val_mae: 0.0131 - 327ms/epoch - 14ms/step\n",
            "Epoch 214/250\n",
            "24/24 - 0s - loss: 0.0010 - mae: 0.0139 - val_loss: 4.4338e-04 - val_mae: 0.0148 - 336ms/epoch - 14ms/step\n",
            "Epoch 215/250\n",
            "24/24 - 0s - loss: 0.0010 - mae: 0.0132 - val_loss: 4.2638e-04 - val_mae: 0.0131 - 327ms/epoch - 14ms/step\n",
            "Epoch 216/250\n",
            "24/24 - 0s - loss: 0.0010 - mae: 0.0145 - val_loss: 5.3047e-04 - val_mae: 0.0168 - 358ms/epoch - 15ms/step\n",
            "Epoch 217/250\n",
            "24/24 - 0s - loss: 0.0010 - mae: 0.0129 - val_loss: 6.0118e-04 - val_mae: 0.0159 - 332ms/epoch - 14ms/step\n",
            "Epoch 218/250\n",
            "24/24 - 0s - loss: 9.8407e-04 - mae: 0.0133 - val_loss: 5.5254e-04 - val_mae: 0.0161 - 358ms/epoch - 15ms/step\n",
            "Epoch 219/250\n",
            "24/24 - 0s - loss: 0.0010 - mae: 0.0147 - val_loss: 8.2916e-04 - val_mae: 0.0203 - 325ms/epoch - 14ms/step\n",
            "Epoch 220/250\n",
            "24/24 - 0s - loss: 0.0011 - mae: 0.0156 - val_loss: 5.8298e-04 - val_mae: 0.0177 - 365ms/epoch - 15ms/step\n",
            "Epoch 221/250\n",
            "24/24 - 0s - loss: 0.0012 - mae: 0.0166 - val_loss: 5.3474e-04 - val_mae: 0.0148 - 329ms/epoch - 14ms/step\n",
            "Epoch 222/250\n",
            "24/24 - 0s - loss: 0.0012 - mae: 0.0181 - val_loss: 4.5912e-04 - val_mae: 0.0145 - 330ms/epoch - 14ms/step\n",
            "Epoch 223/250\n",
            "24/24 - 0s - loss: 0.0011 - mae: 0.0163 - val_loss: 5.2063e-04 - val_mae: 0.0171 - 335ms/epoch - 14ms/step\n",
            "Epoch 224/250\n",
            "24/24 - 0s - loss: 0.0013 - mae: 0.0174 - val_loss: 3.3680e-04 - val_mae: 0.0127 - 329ms/epoch - 14ms/step\n",
            "Epoch 225/250\n",
            "24/24 - 0s - loss: 0.0014 - mae: 0.0186 - val_loss: 5.2914e-04 - val_mae: 0.0167 - 360ms/epoch - 15ms/step\n",
            "Epoch 226/250\n",
            "24/24 - 0s - loss: 0.0011 - mae: 0.0139 - val_loss: 3.3346e-04 - val_mae: 0.0125 - 329ms/epoch - 14ms/step\n",
            "Epoch 227/250\n",
            "24/24 - 0s - loss: 0.0011 - mae: 0.0147 - val_loss: 3.7659e-04 - val_mae: 0.0141 - 326ms/epoch - 14ms/step\n",
            "Epoch 228/250\n",
            "24/24 - 0s - loss: 0.0012 - mae: 0.0162 - val_loss: 3.1229e-04 - val_mae: 0.0122 - 335ms/epoch - 14ms/step\n",
            "Epoch 229/250\n",
            "24/24 - 0s - loss: 0.0010 - mae: 0.0130 - val_loss: 7.7358e-04 - val_mae: 0.0199 - 328ms/epoch - 14ms/step\n",
            "Epoch 230/250\n",
            "24/24 - 0s - loss: 0.0012 - mae: 0.0159 - val_loss: 4.0587e-04 - val_mae: 0.0149 - 330ms/epoch - 14ms/step\n",
            "Epoch 231/250\n",
            "24/24 - 0s - loss: 0.0010 - mae: 0.0126 - val_loss: 6.2327e-04 - val_mae: 0.0180 - 327ms/epoch - 14ms/step\n",
            "Epoch 232/250\n",
            "24/24 - 0s - loss: 0.0011 - mae: 0.0178 - val_loss: 4.5058e-04 - val_mae: 0.0157 - 363ms/epoch - 15ms/step\n",
            "Epoch 233/250\n",
            "24/24 - 0s - loss: 0.0011 - mae: 0.0162 - val_loss: 3.7175e-04 - val_mae: 0.0129 - 388ms/epoch - 16ms/step\n",
            "Epoch 234/250\n",
            "24/24 - 0s - loss: 9.9887e-04 - mae: 0.0125 - val_loss: 3.6208e-04 - val_mae: 0.0132 - 363ms/epoch - 15ms/step\n",
            "Epoch 235/250\n",
            "24/24 - 0s - loss: 0.0010 - mae: 0.0146 - val_loss: 4.4858e-04 - val_mae: 0.0149 - 353ms/epoch - 15ms/step\n",
            "Epoch 236/250\n",
            "24/24 - 0s - loss: 0.0011 - mae: 0.0142 - val_loss: 7.8236e-04 - val_mae: 0.0232 - 362ms/epoch - 15ms/step\n",
            "Epoch 237/250\n",
            "24/24 - 0s - loss: 0.0012 - mae: 0.0168 - val_loss: 4.2375e-04 - val_mae: 0.0147 - 357ms/epoch - 15ms/step\n",
            "Epoch 238/250\n",
            "24/24 - 0s - loss: 0.0011 - mae: 0.0143 - val_loss: 4.5790e-04 - val_mae: 0.0164 - 361ms/epoch - 15ms/step\n",
            "Epoch 239/250\n",
            "24/24 - 0s - loss: 0.0011 - mae: 0.0139 - val_loss: 3.5263e-04 - val_mae: 0.0136 - 394ms/epoch - 16ms/step\n",
            "Epoch 240/250\n",
            "24/24 - 0s - loss: 0.0010 - mae: 0.0137 - val_loss: 3.8216e-04 - val_mae: 0.0130 - 410ms/epoch - 17ms/step\n",
            "Epoch 241/250\n",
            "24/24 - 0s - loss: 0.0011 - mae: 0.0160 - val_loss: 3.8249e-04 - val_mae: 0.0131 - 364ms/epoch - 15ms/step\n",
            "Epoch 242/250\n",
            "24/24 - 0s - loss: 0.0010 - mae: 0.0140 - val_loss: 4.1510e-04 - val_mae: 0.0143 - 335ms/epoch - 14ms/step\n",
            "Epoch 243/250\n",
            "24/24 - 0s - loss: 0.0011 - mae: 0.0158 - val_loss: 4.1018e-04 - val_mae: 0.0138 - 336ms/epoch - 14ms/step\n",
            "Epoch 244/250\n",
            "24/24 - 0s - loss: 0.0011 - mae: 0.0145 - val_loss: 7.1499e-04 - val_mae: 0.0217 - 331ms/epoch - 14ms/step\n",
            "Epoch 245/250\n",
            "24/24 - 0s - loss: 0.0010 - mae: 0.0149 - val_loss: 3.9496e-04 - val_mae: 0.0145 - 330ms/epoch - 14ms/step\n",
            "Epoch 246/250\n",
            "24/24 - 0s - loss: 0.0010 - mae: 0.0130 - val_loss: 4.0949e-04 - val_mae: 0.0130 - 332ms/epoch - 14ms/step\n",
            "Epoch 247/250\n",
            "24/24 - 0s - loss: 0.0011 - mae: 0.0147 - val_loss: 3.4798e-04 - val_mae: 0.0123 - 335ms/epoch - 14ms/step\n",
            "Epoch 248/250\n",
            "24/24 - 0s - loss: 0.0010 - mae: 0.0135 - val_loss: 3.4346e-04 - val_mae: 0.0122 - 330ms/epoch - 14ms/step\n",
            "Epoch 249/250\n",
            "24/24 - 0s - loss: 0.0010 - mae: 0.0126 - val_loss: 4.5000e-04 - val_mae: 0.0142 - 363ms/epoch - 15ms/step\n",
            "Epoch 250/250\n",
            "24/24 - 0s - loss: 0.0011 - mae: 0.0156 - val_loss: 4.8179e-04 - val_mae: 0.0138 - 327ms/epoch - 14ms/step\n"
          ]
        }
      ],
      "source": [
        "# fit the model\n",
        "history = model.fit(X_train, y_train, epochs=250, batch_size=32, verbose=2, validation_data=(X_val, y_val))  # has used mini batch learning, with batch_s"
      ]
    },
    {
      "cell_type": "code",
      "execution_count": 29,
      "metadata": {
        "id": "rCEqo_82_2-b",
        "colab": {
          "base_uri": "https://localhost:8080/",
          "height": 472
        },
        "outputId": "973979e0-e824-47ed-fc1a-7599ea033f7c"
      },
      "outputs": [
        {
          "output_type": "display_data",
          "data": {
            "text/plain": [
              "<Figure size 640x480 with 1 Axes>"
            ],
            "image/png": "[encoded data removed]"
          },
          "metadata": {}
        }
      ],
      "source": [
        "from matplotlib import pyplot\n",
        "# plot learning curves\n",
        "pyplot.title('Learning Curves')\n",
        "pyplot.xlabel('Epoch')\n",
        "pyplot.ylabel('Root Mean Squared Error')\n",
        "pyplot.plot(history.history['loss'], label='train')\n",
        "pyplot.plot(history.history['val_loss'], label='val')\n",
        "pyplot.legend()\n",
        "pyplot.show()"
      ]
    },
    {
      "cell_type": "markdown",
      "metadata": {
        "id": "F0kGRDTj_6As"
      },
      "source": [
        "Model Evaluation and Predictions\n",
        "\n",
        "Next, i will be using the model.evaluate() and model.predict() methods.\n",
        "\n",
        "The model.evaluate() is used to only check the MSE, RMSE, MAE values of our model when the testing data is used. This does not provide us with the results the model would predict. Therefore to see the results that the model would predict, i have used the model.predict() function. Later I have plotted the actual and predicted values of the test data to see how well our model has performed.\n"
      ]
    },
    {
      "cell_type": "code",
      "execution_count": 30,
      "metadata": {
        "id": "nAdrG-vy_6e6",
        "colab": {
          "base_uri": "https://localhost:8080/"
        },
        "outputId": "a5ccdde6-f70b-43e2-91d9-3b39b92becc2"
      },
      "outputs": [
        {
          "output_type": "stream",
          "name": "stdout",
          "text": [
            "MSE: 0.001, RMSE: 0.026, MAE: 0.017\n"
          ]
        }
      ],
      "source": [
        "\n",
        "# evaluate the model\n",
        "mse, mae = model.evaluate(X_test, y_test, verbose=0)\n",
        "print('MSE: %.3f, RMSE: %.3f, MAE: %.3f' % (mse, np.sqrt(mse), mae)) "
      ]
    },
    {
      "cell_type": "code",
      "execution_count": 31,
      "metadata": {
        "id": "oEDaQdv2AGX2",
        "colab": {
          "base_uri": "https://localhost:8080/"
        },
        "outputId": "6beb8d29-fc3f-45a5-ad35-b83b95993e88"
      },
      "outputs": [
        {
          "output_type": "stream",
          "name": "stdout",
          "text": [
            "(240, 60, 2)\n",
            "8/8 [==============================] - 0s 7ms/step\n",
            "(240, 1)\n"
          ]
        }
      ],
      "source": [
        "\n",
        "# predicting y_test values\n",
        "print(X_test.shape)\n",
        "predicted_values = model.predict(X_test)\n",
        "print(predicted_values.shape)\n",
        "# print(predicted_values)\n",
        "     "
      ]
    },
    {
      "cell_type": "code",
      "execution_count": 35,
      "metadata": {
        "id": "tGpPo4JzAUJh",
        "colab": {
          "base_uri": "https://localhost:8080/",
          "height": 508
        },
        "outputId": "51d8bd23-deab-404a-cac7-856ab3648494"
      },
      "outputs": [
        {
          "output_type": "execute_result",
          "data": {
            "text/plain": [
              "<Figure size 1000x600 with 0 Axes>"
            ]
          },
          "metadata": {},
          "execution_count": 35
        },
        {
          "output_type": "display_data",
          "data": {
            "text/plain": [
              "<Figure size 640x480 with 1 Axes>"
            ],
            "image/png": "[encoded data removed]"
          },
          "metadata": {}
        },
        {
          "output_type": "display_data",
          "data": {
            "text/plain": [
              "<Figure size 1000x600 with 0 Axes>"
            ]
          },
          "metadata": {}
        }
      ],
      "source": [
        "\n",
        "plt.plot(y_test)\n",
        "plt.plot(predicted_values)\n",
        "plt.xlabel('Day')\n",
        "plt.ylabel('Stock Price Volume')\n",
        "plt.title('Stock Price Volume Prediction Graph using RNN (LSTM)')\n",
        "plt.legend(['Actual','Predicted'],loc = 'lower right')\n",
        "plt.figure(figsize=(10,6))\n"
      ]
    },
    {
      "cell_type": "markdown",
      "metadata": {
        "id": "qCuzrHmfAXwI"
      },
      "source": [
        "Using R Squared\n",
        "\n",
        "The R squared is a metric we can use to evaluate how well our regression based (model that handle continuous data) have performed.\n",
        "\n",
        "R squared can vary between 0 and 1 and we can evaluate our model using this metric, while a negative value would mean that the training has not been done properly."
      ]
    },
    {
      "cell_type": "code",
      "execution_count": 33,
      "metadata": {
        "id": "odmLjE-VAYkY",
        "colab": {
          "base_uri": "https://localhost:8080/"
        },
        "outputId": "3a98a5ca-9504-422b-b91c-5dd86f07f544"
      },
      "outputs": [
        {
          "output_type": "stream",
          "name": "stdout",
          "text": [
            "0.9900894937101052\n"
          ]
        }
      ],
      "source": [
        "\n",
        "# evaluating using R squared\n",
        "R_square = r2_score(y_test, predicted_values) \n",
        " \n",
        "print(R_square)"
      ]
    }
  ],
  "metadata": {
    "accelerator": "GPU",
    "colab": {
      "provenance": []
    },
    "gpuClass": "standard",
    "kernelspec": {
      "display_name": "Python 3",
      "name": "python3"
    },
    "language_info": {
      "name": "python"
    }
  },
  "nbformat": 4,
  "nbformat_minor": 0
}